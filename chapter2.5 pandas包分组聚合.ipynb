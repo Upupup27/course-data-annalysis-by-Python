{
 "cells": [
  {
   "cell_type": "markdown",
   "id": "cf6fff59",
   "metadata": {},
   "source": [
    " # groupby() 函数"
   ]
  },
  {
   "cell_type": "code",
   "execution_count": 6,
   "id": "5cf44036",
   "metadata": {},
   "outputs": [
    {
     "name": "stdout",
     "output_type": "stream",
     "text": [
      "2022-03-17\n"
     ]
    }
   ],
   "source": [
    "import datetime\n",
    "end=datetime.date.today()\n",
    "print(end)"
   ]
  },
  {
   "cell_type": "markdown",
   "id": "aa399e6d",
   "metadata": {},
   "source": [
    "## 导入数据"
   ]
  },
  {
   "cell_type": "code",
   "execution_count": 5,
   "id": "06c1546e",
   "metadata": {
    "collapsed": true
   },
   "outputs": [
    {
     "name": "stdout",
     "output_type": "stream",
     "text": [
      "000001.sz\n",
      "600000.sh\n",
      "000002.sz\n",
      "      ts_code trade_date   open   high    low  close  pre_close  change  pct_chg         vol       amount\n",
      "0   000001.SZ   20220318  14.36  14.85  14.14  14.70      14.45    0.25   1.7301  1528807.13  2222158.762\n",
      "1   000001.SZ   20220317  14.66  14.71  14.24  14.45      14.31    0.14   0.9783  1730061.42  2506504.217\n",
      "2   000001.SZ   20220316  13.86  14.40  13.51  14.31      13.68    0.63   4.6053  1531779.06  2141637.065\n",
      "3   000001.SZ   20220315  14.40  14.40  13.60  13.68      14.49   -0.81  -5.5901  1781408.87  2479769.555\n",
      "4   000001.SZ   20220314  14.63  14.93  14.45  14.49      14.90   -0.41  -2.7517  1118407.34  1637278.471\n",
      "5   600000.SH   20220318   7.73   7.91   7.71   7.90       7.74    0.16   2.0672   531795.30   417702.652\n",
      "6   600000.SH   20220317   7.85   7.85   7.71   7.74       7.77   -0.03  -0.3861   414955.56   322981.454\n",
      "7   600000.SH   20220316   7.69   7.80   7.52   7.77       7.63    0.14   1.8349   415200.83   318505.390\n",
      "8   600000.SH   20220315   7.92   7.93   7.61   7.63       7.91   -0.28  -3.5398   489622.95   379252.434\n",
      "9   600000.SH   20220314   7.95   8.00   7.90   7.91       8.01   -0.10  -1.2484   227708.66   180826.437\n",
      "10  000002.SZ   20220318  16.44  17.55  16.30  17.45      16.68    0.77   4.6163  1839484.23  3126922.096\n",
      "11  000002.SZ   20220317  16.41  16.88  16.28  16.68      15.51    1.17   7.5435  2216236.20  3669244.186\n",
      "12  000002.SZ   20220316  15.20  15.80  14.43  15.51      14.80    0.71   4.7973  2100986.64  3180485.804\n",
      "13  000002.SZ   20220315  15.80  15.89  14.77  14.80      16.09   -1.29  -8.0174  2098842.33  3215504.868\n",
      "14  000002.SZ   20220314  16.38  16.95  16.04  16.09      16.65   -0.56  -3.3634  1125945.20  1852414.494\n"
     ]
    }
   ],
   "source": [
    "import pandas as pd\n",
    "import tushare as ts\n",
    "pd.set_option('expand_frame_repr',False) #默认值为True，表示显示不完的列可以换行（跨行）显示；为False表示不允许换行显示，直接显示所有列\n",
    "ts.set_token('3beebb3ed233f16bad857c626a68e66348a2eacc07ba53b672d51480')\n",
    "pro = ts.pro_api()\n",
    "code_list=['000001.sz','600000.sh','000002.sz']\n",
    "s_data=pd.DataFrame()  #二维表格型数据结构/清除表格内原有数据，使之为空\n",
    "import datetime\n",
    "end=datetime.date.today()\n",
    "\n",
    "for code in code_list:\n",
    "    print(code)\n",
    "    df=pro.daily(ts_code=code,start_date='20220313',end_date=end.strftime('%Y%m%d'))\n",
    "    s_data=s_data.append(df,ignore_index=True)#ignore_index=True的话，数据合并后将会重新按照0，1，2，3.......的顺序重新构建索引。/忽略原有索引\n",
    "print(s_data)"
   ]
  },
  {
   "cell_type": "markdown",
   "id": "56444a94",
   "metadata": {},
   "source": [
    "## pandas显示设置option函数"
   ]
  },
  {
   "cell_type": "markdown",
   "id": "ab281ada",
   "metadata": {},
   "source": [
    "### 显示更多行"
   ]
  },
  {
   "cell_type": "code",
   "execution_count": 33,
   "id": "03922c77",
   "metadata": {
    "collapsed": true
   },
   "outputs": [
    {
     "name": "stdout",
     "output_type": "stream",
     "text": [
      "      ts_code trade_date   open   high    low  close  pre_close  change  pct_chg         vol       amount\n",
      "0   000002.SZ   20220317  16.41  16.88  16.28  16.68      15.51    1.17   7.5435  2216236.20  3669244.186\n",
      "1   000002.SZ   20220316  15.20  15.80  14.43  15.51      14.80    0.71   4.7973  2100986.64  3180485.804\n",
      "2   000002.SZ   20220315  15.80  15.89  14.77  14.80      16.09   -1.29  -8.0174  2098842.33  3215504.868\n",
      "3   000002.SZ   20220314  16.38  16.95  16.04  16.09      16.65   -0.56  -3.3634  1125945.20  1852414.494\n",
      "4   000002.SZ   20220311  16.35  16.75  16.02  16.65      16.77   -0.12  -0.7156  1021248.39  1676581.384\n",
      "..        ...        ...    ...    ...    ...    ...        ...     ...      ...         ...          ...\n",
      "43  000002.SZ   20220110  21.80  22.66  21.56  22.16      21.89    0.27   1.2334  1527796.63  3376585.470\n",
      "44  000002.SZ   20220107  21.38  22.46  21.35  21.89      21.05    0.84   3.9905  2262768.05  4969780.143\n",
      "45  000002.SZ   20220106  21.12  21.66  20.79  21.05      21.17   -0.12  -0.5668  1380274.06  2923511.291\n",
      "46  000002.SZ   20220105  20.43  21.61  20.36  21.17      20.49    0.68   3.3187  1930457.91  4075047.844\n",
      "47  000002.SZ   20220104  19.49  20.65  19.36  20.49      19.76    0.73   3.6943  1947202.02  3956475.666\n",
      "\n",
      "[48 rows x 11 columns]\n"
     ]
    }
   ],
   "source": [
    "df=pro.daily(ts_code=code,start_date='20220101',end_date=end.strftime('%Y%m%d'))\n",
    "print(df)"
   ]
  },
  {
   "cell_type": "markdown",
   "id": "dae6690b",
   "metadata": {},
   "source": [
    "1 默认情况下，pandas 是不超出屏幕的显示范围的，如果表的行数很多，它会截断中间的行只显示一部分。我们可以通过设置display.max_rows来控制显示的最大行数"
   ]
  },
  {
   "cell_type": "code",
   "execution_count": 25,
   "id": "93d2dced",
   "metadata": {},
   "outputs": [],
   "source": [
    "pd.set_option('display.max_rows',10) #设置显示10行（前5后5）\n",
    "#pd.options.display.max_rows = 10\n",
    "#pd.set_option('display.max_rows',None) #直接显示所有行"
   ]
  },
  {
   "cell_type": "markdown",
   "id": "8a628af2",
   "metadata": {},
   "source": [
    "2 如果行数超过了display.max_rows,那么就不管用，可以使用display.min_rows来设置显示多少行。默认前5后5"
   ]
  },
  {
   "cell_type": "code",
   "execution_count": 23,
   "id": "4d03dbab",
   "metadata": {},
   "outputs": [],
   "source": [
    "#pd.set_option('display.min_rows',n)\n",
    "pd.set_option('display.min_rows', 8) #自己设置(前n/2后n/2)"
   ]
  },
  {
   "cell_type": "markdown",
   "id": "01823b1c",
   "metadata": {},
   "source": [
    "3 直接重置reset_option"
   ]
  },
  {
   "cell_type": "code",
   "execution_count": 27,
   "id": "44e7d073",
   "metadata": {},
   "outputs": [],
   "source": [
    "#pd.reset_option('display.max_rows')\n",
    "pd.reset_option('display.min_rows')"
   ]
  },
  {
   "cell_type": "markdown",
   "id": "0cd913cd",
   "metadata": {},
   "source": [
    "### 显示更多列"
   ]
  },
  {
   "cell_type": "code",
   "execution_count": 37,
   "id": "d77ebf14",
   "metadata": {
    "collapsed": true
   },
   "outputs": [
    {
     "name": "stdout",
     "output_type": "stream",
     "text": [
      "     ts_code trade_date   open   high  ...  change  pct_chg         vol       amount\n",
      "0  000002.SZ   20220317  16.41  16.88  ...    1.17   7.5435  2216236.20  3669244.186\n",
      "1  000002.SZ   20220316  15.20  15.80  ...    0.71   4.7973  2100986.64  3180485.804\n",
      "2  000002.SZ   20220315  15.80  15.89  ...   -1.29  -8.0174  2098842.33  3215504.868\n",
      "3  000002.SZ   20220314  16.38  16.95  ...   -0.56  -3.3634  1125945.20  1852414.494\n",
      "4  000002.SZ   20220311  16.35  16.75  ...   -0.12  -0.7156  1021248.39  1676581.384\n",
      "5  000002.SZ   20220310  17.18  17.27  ...   -0.21  -1.2367  1059078.67  1796610.781\n",
      "\n",
      "[6 rows x 11 columns]\n"
     ]
    }
   ],
   "source": [
    "df=pro.daily(ts_code=code,start_date='20220310',end_date=end.strftime('%Y%m%d'))\n",
    "print(df)"
   ]
  },
  {
   "cell_type": "code",
   "execution_count": 36,
   "id": "fa6397c8",
   "metadata": {},
   "outputs": [],
   "source": [
    "pd.set_option('display.max_columns',8) #设置显示10列（前5后5）\n",
    "#pd.options.display.max_columns = 8\n",
    "#pd.set_option('display.max_columns',None)\n",
    "#pd.set_option('display.min_columns', 8)\n",
    "#pd.reset_option('display.min_columns')\n",
    "#pd.reset_option('display.max_columns')"
   ]
  },
  {
   "cell_type": "markdown",
   "id": "f20af9ef",
   "metadata": {},
   "source": [
    "改变列宽，有的值字符过长就会显示省略号。如果想全部显示，可以设置display.max_colwidth"
   ]
  },
  {
   "cell_type": "code",
   "execution_count": null,
   "id": "e762972f",
   "metadata": {},
   "outputs": [],
   "source": [
    "pd.set_option ('display.max_colwidth',500)\n",
    "# pd.options.display.max_colwidth = 500"
   ]
  },
  {
   "cell_type": "markdown",
   "id": "5de2eb9d",
   "metadata": {},
   "source": [
    "### 换行显示/每行最大显示宽度"
   ]
  },
  {
   "cell_type": "code",
   "execution_count": 45,
   "id": "8cb80716",
   "metadata": {
    "collapsed": true
   },
   "outputs": [
    {
     "name": "stdout",
     "output_type": "stream",
     "text": [
      "     0     1     2     3     4     5     6     7     8     9     10    11  \\\n",
      "0  0.63  0.23  0.08  0.07  0.14  0.62  0.74  0.12  0.64  0.11  0.93  0.59   \n",
      "1  0.77  0.25  0.28  0.96  0.25  0.78  0.95  0.02  0.19  0.74  0.02  0.43   \n",
      "2  0.51  0.41  0.89  0.49  0.20  0.16  0.13  0.52  0.62  0.85  0.20  0.20   \n",
      "\n",
      "     12    13    14    15    16    17    18    19    20    21    22    23  \\\n",
      "0  0.62  0.27  0.75  0.53  0.69  0.16  0.84  0.60  0.48  0.60  0.50  0.34   \n",
      "1  0.38  0.87  0.70  0.08  0.04  0.36  0.94  0.12  0.89  0.15  0.29  0.37   \n",
      "2  0.79  0.71  0.45  0.45  0.22  0.15  0.26  0.08  0.85  0.72  0.44  0.62   \n",
      "\n",
      "     24    25    26   27    28    29  \n",
      "0  0.52  0.23  0.53  0.3  0.80  0.43  \n",
      "1  0.98  0.75  0.20  0.8  0.49  0.96  \n",
      "2  0.04  0.80  0.03  0.9  0.68  0.92  \n"
     ]
    }
   ],
   "source": [
    "pd.set_option('expand_frame_repr',True)   #要不要换行显示，默认值为True，表示显示不完的列可以换行（跨行）显示；为False表示不允许换行显示，直接显示所有列\n",
    "pd.set_option('display.max_columns',None) #直接显示所有列\n",
    "pd.set_option('display.width',80)         #横向最多显示80字符\n",
    "\n",
    "import numpy as np\n",
    "df = pd.DataFrame(np.random.rand(3,30),columns=list(range(30)))\n",
    "print(df)"
   ]
  },
  {
   "cell_type": "markdown",
   "id": "026c9465",
   "metadata": {},
   "source": [
    "### 设置float列的精度"
   ]
  },
  {
   "cell_type": "markdown",
   "id": "aac72bb5",
   "metadata": {},
   "source": [
    "对于float浮点型数据，pandas默认情况下只显示小数点后6位。我们可以通过预先设置display.precision让其只显示2位，避免后面重复操作。\n",
    "注意：这个设置不影响底层数据，它只影响浮动列的显示"
   ]
  },
  {
   "cell_type": "code",
   "execution_count": 46,
   "id": "c4d4af2b",
   "metadata": {
    "collapsed": true
   },
   "outputs": [
    {
     "name": "stdout",
     "output_type": "stream",
     "text": [
      "     0     1     2     3     4     5     6     7     8     9     10    11  \\\n",
      "0  0.63  0.23  0.08  0.07  0.14  0.62  0.74  0.12  0.64  0.11  0.93  0.59   \n",
      "1  0.77  0.25  0.28  0.96  0.25  0.78  0.95  0.02  0.19  0.74  0.02  0.43   \n",
      "2  0.51  0.41  0.89  0.49  0.20  0.16  0.13  0.52  0.62  0.85  0.20  0.20   \n",
      "\n",
      "     12    13    14    15    16    17    18    19    20    21    22    23  \\\n",
      "0  0.62  0.27  0.75  0.53  0.69  0.16  0.84  0.60  0.48  0.60  0.50  0.34   \n",
      "1  0.38  0.87  0.70  0.08  0.04  0.36  0.94  0.12  0.89  0.15  0.29  0.37   \n",
      "2  0.79  0.71  0.45  0.45  0.22  0.15  0.26  0.08  0.85  0.72  0.44  0.62   \n",
      "\n",
      "     24    25    26   27    28    29  \n",
      "0  0.52  0.23  0.53  0.3  0.80  0.43  \n",
      "1  0.98  0.75  0.20  0.8  0.49  0.96  \n",
      "2  0.04  0.80  0.03  0.9  0.68  0.92  \n"
     ]
    }
   ],
   "source": [
    "pd.set_option('display.precision',2)\n",
    "print(df)"
   ]
  },
  {
   "cell_type": "markdown",
   "id": "b08e5e01",
   "metadata": {},
   "source": [
    "### 数据格式化显示"
   ]
  },
  {
   "cell_type": "markdown",
   "id": "f5dc39a0",
   "metadata": {},
   "source": [
    "pandas中有一个选项display.float_format option可以用来格式化任何浮点列。这个仅适用于浮点列，对于其他数据类型，必须将它们转换为浮点数才可以。"
   ]
  },
  {
   "cell_type": "code",
   "execution_count": 58,
   "id": "e90c43de",
   "metadata": {
    "collapsed": true
   },
   "outputs": [
    {
     "name": "stdout",
     "output_type": "stream",
     "text": [
      "               0              1              2              3              4  \\\n",
      "0 24,186,291.73%    154,842.79% 95,923,050.16% 68,326,555.27% 21,665,532.94%   \n",
      "1 61,271,908.14% 38,279,153.46% 85,692,811.14% 76,086,244.22% 44,029,336.66%   \n",
      "2  8,315,385.59% 51,480,458.22% 66,986,358.72% 29,362,401.19% 45,489,391.60%   \n",
      "\n",
      "               5              6              7              8              9  \n",
      "0 32,214,667.20% 71,861,898.89% 48,876,295.13%  7,773,487.04% 54,438,561.83%  \n",
      "1 17,170,528.40% 43,485,559.14% 38,362,941.62%  4,138,795.35% 39,688,874.19%  \n",
      "2 17,316,543.16% 42,143,341.92% 34,325,661.54% 96,286,743.03% 98,917,648.15%  \n"
     ]
    }
   ],
   "source": [
    "df1 = pd.DataFrame(np.random.rand(3,10)*100000000,columns=list(range(10)))\n",
    "print(df1)"
   ]
  },
  {
   "cell_type": "code",
   "execution_count": 53,
   "id": "ed173b58",
   "metadata": {},
   "outputs": [],
   "source": [
    "#逗号格式化大值数字\n",
    "pd.set_option('display.float_format','{:,}'.format)  #:对前面传入的值开始处理‘，’三分位，号分割\n",
    "#pd.set_option('float_format','{:,}'.format)"
   ]
  },
  {
   "cell_type": "code",
   "execution_count": 55,
   "id": "d6140c43",
   "metadata": {},
   "outputs": [],
   "source": [
    "#设置数字精度 类似display.precision\n",
    "pd.set_option('float_format','{:,.2f}'.format)  #两位小数"
   ]
  },
  {
   "cell_type": "code",
   "execution_count": 57,
   "id": "031b7056",
   "metadata": {},
   "outputs": [],
   "source": [
    "#百分号格式化\n",
    "pd.set_option('float_format','{:,.2f}%'.format)\n",
    "#需要其他符号在{}前后加就好了\n",
    "#pd.set_option('float_format','${:,.2f}'.format)"
   ]
  },
  {
   "cell_type": "code",
   "execution_count": 60,
   "id": "e0744933",
   "metadata": {},
   "outputs": [
    {
     "name": "stdout",
     "output_type": "stream",
     "text": [
      "2022-03-18 2022 3 18\n"
     ]
    }
   ],
   "source": [
    "a=end.strftime('%Y%m%d')\n",
    "print(end,a,end.year,end.month,end.day)"
   ]
  },
  {
   "cell_type": "markdown",
   "id": "d8b65ddd",
   "metadata": {},
   "source": [
    "### 打印出当前设置并重置所有选项"
   ]
  },
  {
   "cell_type": "code",
   "execution_count": 64,
   "id": "84d3d4ae",
   "metadata": {
    "collapsed": true
   },
   "outputs": [
    {
     "name": "stdout",
     "output_type": "stream",
     "text": [
      "As the xlwt package is no longer maintained, the xlwt engine will be removed in a future version of pandas. This is the only engine in pandas that supports writing in the xls format. Install openpyxl and write to an xlsx file instead.\n",
      "\n",
      ": boolean\n",
      "    use_inf_as_null had been deprecated and will be removed in a future\n",
      "    version. Use `use_inf_as_na` instead.\n",
      "\n"
     ]
    },
    {
     "name": "stderr",
     "output_type": "stream",
     "text": [
      "E:\\study\\anaconda\\lib\\site-packages\\pandas\\_config\\config.py:630: FutureWarning: As the xlwt package is no longer maintained, the xlwt engine will be removed in a future version of pandas. This is the only engine in pandas that supports writing in the xls format. Install openpyxl and write to an xlsx file instead.\n",
      "  warnings.warn(d.msg, FutureWarning)\n",
      "E:\\study\\anaconda\\lib\\site-packages\\pandas\\_config\\config.py:630: FutureWarning: \n",
      ": boolean\n",
      "    use_inf_as_null had been deprecated and will be removed in a future\n",
      "    version. Use `use_inf_as_na` instead.\n",
      "\n",
      "  warnings.warn(d.msg, FutureWarning)\n"
     ]
    }
   ],
   "source": [
    "#pd.describe_option()          #打印出设置的描述及其当前值。\n",
    "#pd.describe_option('rows')   #打印特定选项\n",
    "pd.reset_option('all')       #全部重置"
   ]
  },
  {
   "cell_type": "markdown",
   "id": "39007b2e",
   "metadata": {},
   "source": [
    "### 汇总"
   ]
  },
  {
   "cell_type": "code",
   "execution_count": null,
   "id": "d5c657e0",
   "metadata": {},
   "outputs": [],
   "source": [
    "pd.set_option('display.max_rows',n)  #最大行数\n",
    "pd.set_option('display.min_rows',n)  #最小行数\n",
    "pd.set_option('display.max_columns',n)#最大列数\n",
    "pd.set_option('display.min_columns',n)#最小列数\n",
    "pd.set_option('display.max_colwidth',n)#最大列宽\n",
    "pd.set_option('display.precision',2)  #浮点型精度\n",
    "pd.set_option('display.float_format','{:,}'.format) #逗号分割数字\n",
    "pd.set_option('display.float_format','{:,.2f}'.format)#设置浮点精度\n",
    "pd.set_option('display.float_format','{:,}%'.format)#百分号格式化\n",
    "pd.describe_option()                 #显示所有设置和描述\n",
    "pd.reset_option('all')               #重置所有设置"
   ]
  },
  {
   "cell_type": "markdown",
   "id": "fdfbdb23",
   "metadata": {},
   "source": [
    "## python中时间日期格式化符号"
   ]
  },
  {
   "cell_type": "markdown",
   "id": "302ea9b7",
   "metadata": {},
   "source": [
    "%y 两位数的年份表示（00-99） %Y 四位数的年份表示（0000-9999） %m 月份（01-12） %d 月内中的一天（0-31） %H 24小时制小时数（0-23） %I 12小时制小时数（01-12） %M 分钟数（00-59） %S 秒（00-59）\n",
    "\n",
    "%a 本地简化星期名称 %A 本地完整星期名称 %b 本地简化的月份名称 %B 本地完整的月份名称 %c 本地相应的日期表示和时间表示 %j 年内的一天（001-366） %p 本地A.M.或P.M.的等价符 %U 一年中的星期数（00-53）星期天为星期的开始 %w 星期（0-6），星期天为星期的开始 %W 一年中的星期数（00-53）星期一为星期的开始 %x 本地相应的日期表示 %X 本地相应的时间表示 %Z 当前时区的名称 %% %号本身"
   ]
  },
  {
   "cell_type": "code",
   "execution_count": 67,
   "id": "6e7b5c02",
   "metadata": {},
   "outputs": [
    {
     "name": "stdout",
     "output_type": "stream",
     "text": [
      "2022-03-18 20220318 2022 3 18\n"
     ]
    }
   ],
   "source": [
    "a = end.strftime('%Y%m%d')\n",
    "#a=end.strftime('%Y/%m/%d')  #除了格式化符号，其他原样输出\n",
    "print(end,a,end.year,end.month,end.day)"
   ]
  },
  {
   "cell_type": "markdown",
   "id": "d045552d",
   "metadata": {},
   "source": [
    "## 用groupby函数对表格进行分组"
   ]
  },
  {
   "cell_type": "code",
   "execution_count": 71,
   "id": "9a0c3051",
   "metadata": {},
   "outputs": [
    {
     "name": "stdout",
     "output_type": "stream",
     "text": [
      "<pandas.core.groupby.generic.DataFrameGroupBy object at 0x00000160527E09C8>\n"
     ]
    }
   ],
   "source": [
    "grouped=s_data.groupby('ts_code')\n",
    "print(grouped)"
   ]
  },
  {
   "cell_type": "markdown",
   "id": "ed85cb77",
   "metadata": {},
   "source": [
    "### 聚合函数"
   ]
  },
  {
   "cell_type": "markdown",
   "id": "b9350de8",
   "metadata": {},
   "source": [
    "mean,sum,count,max,min,median"
   ]
  },
  {
   "cell_type": "code",
   "execution_count": 72,
   "id": "d09931fb",
   "metadata": {
    "collapsed": true
   },
   "outputs": [
    {
     "name": "stdout",
     "output_type": "stream",
     "text": [
      "              open    high     low    close  pre_close  change  pct_chg  \\\n",
      "ts_code                                                                   \n",
      "000001.SZ  14.3875  14.610  13.950  14.2325    14.3450 -0.1125 -0.68955   \n",
      "000002.SZ  15.9475  16.380  15.380  15.7700    15.7625  0.0075  0.24000   \n",
      "600000.SH   7.8525   7.895   7.685   7.7625     7.8300 -0.0675 -0.83485   \n",
      "\n",
      "                    vol        amount  \n",
      "ts_code                                \n",
      "000001.SZ  1.540414e+06  2.191297e+06  \n",
      "000002.SZ  1.885503e+06  2.979412e+06  \n",
      "600000.SH  3.868720e+05  3.003914e+05  \n"
     ]
    }
   ],
   "source": [
    "print(grouped.mean())"
   ]
  },
  {
   "cell_type": "code",
   "execution_count": null,
   "id": "707a9d6b",
   "metadata": {},
   "outputs": [],
   "source": [
    "print(grouped['open'].mean())"
   ]
  },
  {
   "cell_type": "code",
   "execution_count": null,
   "id": "881cf527",
   "metadata": {},
   "outputs": [],
   "source": [
    "print(grouped['pct_chg'].sum())"
   ]
  },
  {
   "cell_type": "code",
   "execution_count": null,
   "id": "ef93bb0b",
   "metadata": {},
   "outputs": [],
   "source": [
    "print(grouped['close'].median())"
   ]
  },
  {
   "cell_type": "code",
   "execution_count": null,
   "id": "52441139",
   "metadata": {},
   "outputs": [],
   "source": [
    "print(grouped.max())"
   ]
  },
  {
   "cell_type": "markdown",
   "id": "04bff066",
   "metadata": {},
   "source": [
    "### 基于多个键进行分组、聚合"
   ]
  },
  {
   "cell_type": "markdown",
   "id": "75db796f",
   "metadata": {},
   "source": [
    "多个键在分组时作为groupby的参数必须写在一个列表中，依次书写，以逗号分割。然后在进行聚合函数处理"
   ]
  },
  {
   "cell_type": "code",
   "execution_count": 75,
   "id": "84a40dc0",
   "metadata": {
    "collapsed": true
   },
   "outputs": [
    {
     "name": "stdout",
     "output_type": "stream",
     "text": [
      "                      open  high  low  close  pre_close  change  pct_chg  vol  \\\n",
      "ts_code   trade_date                                                            \n",
      "000001.SZ 20220314       1     1    1      1          1       1        1    1   \n",
      "          20220315       1     1    1      1          1       1        1    1   \n",
      "          20220316       1     1    1      1          1       1        1    1   \n",
      "          20220317       1     1    1      1          1       1        1    1   \n",
      "000002.SZ 20220314       1     1    1      1          1       1        1    1   \n",
      "          20220315       1     1    1      1          1       1        1    1   \n",
      "          20220316       1     1    1      1          1       1        1    1   \n",
      "          20220317       1     1    1      1          1       1        1    1   \n",
      "600000.SH 20220314       1     1    1      1          1       1        1    1   \n",
      "          20220315       1     1    1      1          1       1        1    1   \n",
      "          20220316       1     1    1      1          1       1        1    1   \n",
      "          20220317       1     1    1      1          1       1        1    1   \n",
      "\n",
      "                      amount  \n",
      "ts_code   trade_date          \n",
      "000001.SZ 20220314         1  \n",
      "          20220315         1  \n",
      "          20220316         1  \n",
      "          20220317         1  \n",
      "000002.SZ 20220314         1  \n",
      "          20220315         1  \n",
      "          20220316         1  \n",
      "          20220317         1  \n",
      "600000.SH 20220314         1  \n",
      "          20220315         1  \n",
      "          20220316         1  \n",
      "          20220317         1  \n"
     ]
    }
   ],
   "source": [
    "by_mult=s_data.groupby(['ts_code','trade_date'])\n",
    "print(by_mult.count())     #查看缺失值"
   ]
  },
  {
   "cell_type": "markdown",
   "id": "b8470b28",
   "metadata": {},
   "source": [
    "如果显示时不想把分组键作为索引，可以在groupby参数中使用as_index=False"
   ]
  },
  {
   "cell_type": "code",
   "execution_count": 76,
   "id": "73a90740",
   "metadata": {
    "collapsed": true
   },
   "outputs": [
    {
     "name": "stdout",
     "output_type": "stream",
     "text": [
      "      ts_code trade_date  open  high  low  close  pre_close  change  pct_chg  \\\n",
      "0   000001.SZ   20220314     1     1    1      1          1       1        1   \n",
      "1   000001.SZ   20220315     1     1    1      1          1       1        1   \n",
      "2   000001.SZ   20220316     1     1    1      1          1       1        1   \n",
      "3   000001.SZ   20220317     1     1    1      1          1       1        1   \n",
      "4   000002.SZ   20220314     1     1    1      1          1       1        1   \n",
      "5   000002.SZ   20220315     1     1    1      1          1       1        1   \n",
      "6   000002.SZ   20220316     1     1    1      1          1       1        1   \n",
      "7   000002.SZ   20220317     1     1    1      1          1       1        1   \n",
      "8   600000.SH   20220314     1     1    1      1          1       1        1   \n",
      "9   600000.SH   20220315     1     1    1      1          1       1        1   \n",
      "10  600000.SH   20220316     1     1    1      1          1       1        1   \n",
      "11  600000.SH   20220317     1     1    1      1          1       1        1   \n",
      "\n",
      "    vol  amount  \n",
      "0     1       1  \n",
      "1     1       1  \n",
      "2     1       1  \n",
      "3     1       1  \n",
      "4     1       1  \n",
      "5     1       1  \n",
      "6     1       1  \n",
      "7     1       1  \n",
      "8     1       1  \n",
      "9     1       1  \n",
      "10    1       1  \n",
      "11    1       1  \n"
     ]
    }
   ],
   "source": [
    "by_mult=s_data.groupby(['ts_code','trade_date'],as_index=False)\n",
    "print(by_mult.count())     "
   ]
  },
  {
   "cell_type": "markdown",
   "id": "99825953",
   "metadata": {},
   "source": [
    "如果想要一次使用多个聚合函数，可以调用agg()方法"
   ]
  },
  {
   "cell_type": "code",
   "execution_count": 80,
   "id": "93e59e26",
   "metadata": {
    "collapsed": true
   },
   "outputs": [
    {
     "name": "stdout",
     "output_type": "stream",
     "text": [
      "           close                   open                 pre_close         \\\n",
      "             max    min     mean    max    min     mean       max    min   \n",
      "ts_code                                                                    \n",
      "000001.SZ  14.49  13.68  14.2325  14.66  13.86  14.3875     14.90  13.68   \n",
      "000002.SZ  16.68  14.80  15.7700  16.41  15.20  15.9475     16.65  14.80   \n",
      "600000.SH   7.91   7.63   7.7625   7.95   7.69   7.8525      8.01   7.63   \n",
      "\n",
      "                    \n",
      "              mean  \n",
      "ts_code             \n",
      "000001.SZ  14.3450  \n",
      "000002.SZ  15.7625  \n",
      "600000.SH   7.8300  \n"
     ]
    }
   ],
   "source": [
    "#aggregated=grouped[['close','open','pre_close']].aggregate(['max','min','mean'])\n",
    "aggregated=grouped[['close','open','pre_close']].agg(['max','min','mean'])\n",
    "print(aggregated)"
   ]
  },
  {
   "cell_type": "markdown",
   "id": "f6e37d87",
   "metadata": {},
   "source": [
    "### 对不同的列使用不同的聚合函数"
   ]
  },
  {
   "cell_type": "markdown",
   "id": "c8742345",
   "metadata": {},
   "source": [
    "可以先把列对应的函数以 列名：函数名 的形式存放到一个字典中，再调用agg()方法"
   ]
  },
  {
   "cell_type": "code",
   "execution_count": 83,
   "id": "4bbcf9da",
   "metadata": {
    "collapsed": true
   },
   "outputs": [
    {
     "name": "stdout",
     "output_type": "stream",
     "text": [
      "             close         vol  pct_chg\n",
      "ts_code                                \n",
      "000001.SZ  14.2325  6161656.69  10.1954\n",
      "000002.SZ  15.7700  7542010.37  15.5609\n",
      "600000.SH   7.7625  1547488.00   5.3747\n"
     ]
    }
   ],
   "source": [
    "def spread(series):#变动幅度\n",
    "    return series.max()-series.min()\n",
    "#spread=lambda series:series.max()-series.min()\n",
    "aggregator={'close':'mean','vol':'sum','pct_chg':spread}\n",
    "aggregated=grouped.agg(aggregator)\n",
    "print(aggregated)"
   ]
  },
  {
   "cell_type": "markdown",
   "id": "0e73030b",
   "metadata": {},
   "source": [
    "## apply()函数应用"
   ]
  },
  {
   "cell_type": "code",
   "execution_count": 6,
   "id": "fb11fcc4",
   "metadata": {
    "collapsed": true
   },
   "outputs": [
    {
     "name": "stdout",
     "output_type": "stream",
     "text": [
      "000001.sz\n",
      "600000.sh\n",
      "000002.sz\n",
      "      ts_code trade_date   open   high    low  close  pre_close  change  pct_chg         vol       amount\n",
      "0   000001.SZ   20220318  14.36  14.85  14.14  14.70      14.45    0.25   1.7301  1528807.13  2222158.762\n",
      "1   000001.SZ   20220317  14.66  14.71  14.24  14.45      14.31    0.14   0.9783  1730061.42  2506504.217\n",
      "2   000001.SZ   20220316  13.86  14.40  13.51  14.31      13.68    0.63   4.6053  1531779.06  2141637.065\n",
      "3   000001.SZ   20220315  14.40  14.40  13.60  13.68      14.49   -0.81  -5.5901  1781408.87  2479769.555\n",
      "4   000001.SZ   20220314  14.63  14.93  14.45  14.49      14.90   -0.41  -2.7517  1118407.34  1637278.471\n",
      "5   600000.SH   20220318   7.73   7.91   7.71   7.90       7.74    0.16   2.0672   531795.30   417702.652\n",
      "6   600000.SH   20220317   7.85   7.85   7.71   7.74       7.77   -0.03  -0.3861   414955.56   322981.454\n",
      "7   600000.SH   20220316   7.69   7.80   7.52   7.77       7.63    0.14   1.8349   415200.83   318505.390\n",
      "8   600000.SH   20220315   7.92   7.93   7.61   7.63       7.91   -0.28  -3.5398   489622.95   379252.434\n",
      "9   600000.SH   20220314   7.95   8.00   7.90   7.91       8.01   -0.10  -1.2484   227708.66   180826.437\n",
      "10  000002.SZ   20220318  16.44  17.55  16.30  17.45      16.68    0.77   4.6163  1839484.23  3126922.096\n",
      "11  000002.SZ   20220317  16.41  16.88  16.28  16.68      15.51    1.17   7.5435  2216236.20  3669244.186\n",
      "12  000002.SZ   20220316  15.20  15.80  14.43  15.51      14.80    0.71   4.7973  2100986.64  3180485.804\n",
      "13  000002.SZ   20220315  15.80  15.89  14.77  14.80      16.09   -1.29  -8.0174  2098842.33  3215504.868\n",
      "14  000002.SZ   20220314  16.38  16.95  16.04  16.09      16.65   -0.56  -3.3634  1125945.20  1852414.494\n"
     ]
    }
   ],
   "source": [
    "import pandas as pd\n",
    "s1_data=pd.DataFrame()\n",
    "for code in code_list:\n",
    "    print(code)\n",
    "    df = pro.daily(ts_code=code,start_date='20220313',end_date=end.strftime('%Y%m%d'))\n",
    "    s1_data=s1_data.append(df,ignore_index=True)\n",
    "print(s1_data)"
   ]
  },
  {
   "cell_type": "markdown",
   "id": "44c5aa8d",
   "metadata": {},
   "source": [
    "### 空值"
   ]
  },
  {
   "cell_type": "markdown",
   "id": "ea221a15",
   "metadata": {},
   "source": [
    "1 Pandas中的空值有三个：np.nan (Not a Number) 、 None 和 pd.NaT(时间格式的空值，注意大小写不能错)\n",
    "\n",
    "2 从Python解释器来看，np.nan的类型是float，None的类型是NoneType，两者在Pandas中都显示为NaN，pd.NaT的类型是Pandas中的NaTType，显示为NaT。\n",
    "\n",
    "3 这三个值可以用Pandas中的函数isnull()，notnull()，isna()进行判断。\n",
    "\n",
    "注意：而不管是空字符串还是空格，其数据类型都是字符串，Pandas判断的结果不是空值。"
   ]
  },
  {
   "cell_type": "code",
   "execution_count": 87,
   "id": "62ba1c33",
   "metadata": {
    "collapsed": true
   },
   "outputs": [
    {
     "name": "stdout",
     "output_type": "stream",
     "text": [
      "      ts_code trade_date   open   high    low  close  pre_close  change  \\\n",
      "0   000001.SZ   20220318  14.36  14.85  14.14  14.70      14.45    0.25   \n",
      "1   000001.SZ   20220317  14.66  14.71  14.24  14.45      14.31    0.14   \n",
      "2   000001.SZ   20220316  13.86  14.40  13.51  14.31      13.68    0.63   \n",
      "3   000001.SZ   20220315  14.40  14.40  13.60  13.68      14.49   -0.81   \n",
      "4   000001.SZ   20220314  14.63  14.93  14.45  14.49      14.90   -0.41   \n",
      "5   600000.SH   20220318   7.73   7.91   7.71   7.90       7.74    0.16   \n",
      "6   600000.SH   20220317   7.85   7.85   7.71   7.74       7.77   -0.03   \n",
      "7   600000.SH   20220316   7.69   7.80   7.52   7.77       7.63    0.14   \n",
      "8   600000.SH   20220315   7.92   7.93   7.61   7.63       7.91   -0.28   \n",
      "9   600000.SH   20220314   7.95   8.00   7.90   7.91       8.01   -0.10   \n",
      "10  000002.SZ   20220318  16.44  17.55  16.30  17.45      16.68    0.77   \n",
      "11  000002.SZ   20220317  16.41  16.88  16.28  16.68      15.51    1.17   \n",
      "12  000002.SZ   20220316  15.20  15.80  14.43  15.51      14.80    0.71   \n",
      "13  000002.SZ   20220315  15.80  15.89  14.77  14.80      16.09   -1.29   \n",
      "14  000002.SZ   20220314  16.38  16.95  16.04  16.09      16.65   -0.56   \n",
      "\n",
      "    pct_chg         vol       amount  \n",
      "0    1.7301  1528807.13  2222158.762  \n",
      "1    0.9783         NaN  2506504.217  \n",
      "2    4.6053  1531779.06  2141637.065  \n",
      "3   -5.5901  1781408.87  2479769.555  \n",
      "4   -2.7517         NaN  1637278.471  \n",
      "5    2.0672   531795.30   417702.652  \n",
      "6   -0.3861   414955.56   322981.454  \n",
      "7    1.8349   415200.83   318505.390  \n",
      "8   -3.5398         NaN   379252.434  \n",
      "9   -1.2484         NaN   180826.437  \n",
      "10   4.6163  1839484.23  3126922.096  \n",
      "11   7.5435  2216236.20  3669244.186  \n",
      "12   4.7973         NaN  3180485.804  \n",
      "13  -8.0174  2098842.33  3215504.868  \n",
      "14  -3.3634         NaN  1852414.494  \n"
     ]
    }
   ],
   "source": [
    "for i in (1,4,9,14):\n",
    "    s1_data.iloc[i,9]=np.nan\n",
    "print(s1_data)"
   ]
  },
  {
   "cell_type": "code",
   "execution_count": 7,
   "id": "5522d5f5",
   "metadata": {
    "collapsed": true
   },
   "outputs": [
    {
     "name": "stdout",
     "output_type": "stream",
     "text": [
      "   trade_date   open   high    low  close  pre_close  change  pct_chg         vol       amount\n",
      "0    20220318  14.36  14.85  14.14  14.70      14.45    0.25   1.7301  1528807.13  2222158.762\n",
      "1    20220317  14.66  14.71  14.24  14.45      14.31    0.14   0.9783  1730061.42  2506504.217\n",
      "2    20220316  13.86  14.40  13.51  14.31      13.68    0.63   4.6053  1531779.06  2141637.065\n",
      "3    20220315  14.40  14.40  13.60  13.68      14.49   -0.81  -5.5901  1781408.87  2479769.555\n",
      "4    20220314  14.63  14.93  14.45  14.49      14.90   -0.41  -2.7517  1118407.34  1637278.471\n",
      "5    20220318   7.73   7.91   7.71   7.90       7.74    0.16   2.0672   531795.30   417702.652\n",
      "6    20220317   7.85   7.85   7.71   7.74       7.77   -0.03  -0.3861   414955.56   322981.454\n",
      "7    20220316   7.69   7.80   7.52   7.77       7.63    0.14   1.8349   415200.83   318505.390\n",
      "8    20220315   7.92   7.93   7.61   7.63       7.91   -0.28  -3.5398   489622.95   379252.434\n",
      "9    20220314   7.95   8.00   7.90   7.91       8.01   -0.10  -1.2484   227708.66   180826.437\n",
      "10   20220318  16.44  17.55  16.30  17.45      16.68    0.77   4.6163  1839484.23  3126922.096\n",
      "11   20220317  16.41  16.88  16.28  16.68      15.51    1.17   7.5435  2216236.20  3669244.186\n",
      "12   20220316  15.20  15.80  14.43  15.51      14.80    0.71   4.7973  2100986.64  3180485.804\n",
      "13   20220315  15.80  15.89  14.77  14.80      16.09   -1.29  -8.0174  2098842.33  3215504.868\n",
      "14   20220314  16.38  16.95  16.04  16.09      16.65   -0.56  -3.3634  1125945.20  1852414.494\n"
     ]
    }
   ],
   "source": [
    "def fill_mean(g):\n",
    "    return g.fillna(g.mean())  #as_index是否将分组键设置为索引\n",
    "s1_data=fill_mean(s1_data.groupby('ts_code',as_index=False,group_keys=False))\n",
    "print(s1_data)"
   ]
  },
  {
   "cell_type": "code",
   "execution_count": 90,
   "id": "6c7175f0",
   "metadata": {
    "collapsed": true
   },
   "outputs": [
    {
     "name": "stdout",
     "output_type": "stream",
     "text": [
      "      ts_code trade_date   open   high    low  close  pre_close  change  \\\n",
      "0   000001.SZ   20220318  14.36  14.85  14.14  14.70      14.45    0.25   \n",
      "1   000001.SZ   20220317  14.66  14.71  14.24  14.45      14.31    0.14   \n",
      "2   000001.SZ   20220316  13.86  14.40  13.51  14.31      13.68    0.63   \n",
      "3   000001.SZ   20220315  14.40  14.40  13.60  13.68      14.49   -0.81   \n",
      "4   000001.SZ   20220314  14.63  14.93  14.45  14.49      14.90   -0.41   \n",
      "10  000002.SZ   20220318  16.44  17.55  16.30  17.45      16.68    0.77   \n",
      "11  000002.SZ   20220317  16.41  16.88  16.28  16.68      15.51    1.17   \n",
      "12  000002.SZ   20220316  15.20  15.80  14.43  15.51      14.80    0.71   \n",
      "13  000002.SZ   20220315  15.80  15.89  14.77  14.80      16.09   -1.29   \n",
      "14  000002.SZ   20220314  16.38  16.95  16.04  16.09      16.65   -0.56   \n",
      "5   600000.SH   20220318   7.73   7.91   7.71   7.90       7.74    0.16   \n",
      "6   600000.SH   20220317   7.85   7.85   7.71   7.74       7.77   -0.03   \n",
      "7   600000.SH   20220316   7.69   7.80   7.52   7.77       7.63    0.14   \n",
      "8   600000.SH   20220315   7.92   7.93   7.61   7.63       7.91   -0.28   \n",
      "9   600000.SH   20220314   7.95   8.00   7.90   7.91       8.01   -0.10   \n",
      "\n",
      "    pct_chg           vol       amount  \n",
      "0    1.7301  1.528807e+06  2222158.762  \n",
      "1    0.9783  1.613998e+06  2506504.217  \n",
      "2    4.6053  1.531779e+06  2141637.065  \n",
      "3   -5.5901  1.781409e+06  2479769.555  \n",
      "4   -2.7517  1.613998e+06  1637278.471  \n",
      "10   4.6163  1.839484e+06  3126922.096  \n",
      "11   7.5435  2.216236e+06  3669244.186  \n",
      "12   4.7973  2.051521e+06  3180485.804  \n",
      "13  -8.0174  2.098842e+06  3215504.868  \n",
      "14  -3.3634  2.051521e+06  1852414.494  \n",
      "5    2.0672  5.317953e+05   417702.652  \n",
      "6   -0.3861  4.149556e+05   322981.454  \n",
      "7    1.8349  4.152008e+05   318505.390  \n",
      "8   -3.5398  4.539839e+05   379252.434  \n",
      "9   -1.2484  4.539839e+05   180826.437  \n"
     ]
    },
    {
     "name": "stderr",
     "output_type": "stream",
     "text": [
      "E:\\study\\anaconda\\lib\\site-packages\\ipykernel_launcher.py:1: FutureWarning: Dropping of nuisance columns in DataFrame reductions (with 'numeric_only=None') is deprecated; in a future version this will raise TypeError.  Select only valid columns before calling the reduction.\n",
      "  \"\"\"Entry point for launching an IPython kernel.\n"
     ]
    }
   ],
   "source": [
    "fill_mean=lambda g:g.fillna(g.mean())\n",
    "s1_data=s1_data.groupby('ts_code',as_index=False,group_keys=False).apply(fill_mean)\n",
    "print(s1_data)"
   ]
  },
  {
   "cell_type": "markdown",
   "id": "a97eb3ab",
   "metadata": {},
   "source": [
    "### 筛选出分组中指定列最优最大值的行"
   ]
  },
  {
   "cell_type": "code",
   "execution_count": 11,
   "id": "1662118b",
   "metadata": {},
   "outputs": [
    {
     "name": "stdout",
     "output_type": "stream",
     "text": [
      "      ts_code trade_date   open   high    low  close  pre_close  change  pct_chg         vol       amount\n",
      "3   000001.SZ   20220315  14.40  14.40  13.60  13.68      14.49   -0.81  -5.5901  1781408.87  2479769.555\n",
      "11  000002.SZ   20220317  16.41  16.88  16.28  16.68      15.51    1.17   7.5435  2216236.20  3669244.186\n",
      "5   600000.SH   20220318   7.73   7.91   7.71   7.90       7.74    0.16   2.0672   531795.30   417702.652\n"
     ]
    }
   ],
   "source": [
    "def top(df,column='vol'):\n",
    "    return df.sort_values(by=column)[-1:]\n",
    "s2_data=s_data.groupby('ts_code',as_index=False,group_keys=False).apply(top)\n",
    "print(s2_data)"
   ]
  },
  {
   "cell_type": "code",
   "execution_count": 99,
   "id": "20b210de",
   "metadata": {
    "collapsed": true
   },
   "outputs": [
    {
     "name": "stdout",
     "output_type": "stream",
     "text": [
      "     ts_code         NaN\n",
      "0  000001.SZ  1781408.87\n",
      "1  000002.SZ  2216236.20\n",
      "2  600000.SH   489622.95\n"
     ]
    }
   ],
   "source": [
    "def top(df,column='vol'):\n",
    "    return df[column].max()\n",
    "s3_data=s_data.groupby('ts_code',as_index=False,group_keys=False).apply(top)\n",
    "#s3_data.columns=['ts_code','maxvol']\n",
    "print(s3_data)"
   ]
  },
  {
   "cell_type": "markdown",
   "id": "fe35202b",
   "metadata": {},
   "source": [
    "### 分组数据标准化"
   ]
  },
  {
   "cell_type": "code",
   "execution_count": 100,
   "id": "a9913dd1",
   "metadata": {},
   "outputs": [
    {
     "name": "stdout",
     "output_type": "stream",
     "text": [
      "      ts_code trade_date   open   high    low  close  pre_close  change  \\\n",
      "0   000001.SZ   20220317  14.66  14.71  14.24  14.45      14.31    0.14   \n",
      "1   000001.SZ   20220316  13.86  14.40  13.51  14.31      13.68    0.63   \n",
      "2   000001.SZ   20220315  14.40  14.40  13.60  13.68      14.49   -0.81   \n",
      "3   000001.SZ   20220314  14.63  14.93  14.45  14.49      14.90   -0.41   \n",
      "4   600000.SH   20220317   7.85   7.85   7.71   7.74       7.77   -0.03   \n",
      "5   600000.SH   20220316   7.69   7.80   7.52   7.77       7.63    0.14   \n",
      "6   600000.SH   20220315   7.92   7.93   7.61   7.63       7.91   -0.28   \n",
      "7   600000.SH   20220314   7.95   8.00   7.90   7.91       8.01   -0.10   \n",
      "8   000002.SZ   20220317  16.41  16.88  16.28  16.68      15.51    1.17   \n",
      "9   000002.SZ   20220316  15.20  15.80  14.43  15.51      14.80    0.71   \n",
      "10  000002.SZ   20220315  15.80  15.89  14.77  14.80      16.09   -1.29   \n",
      "11  000002.SZ   20220314  16.38  16.95  16.04  16.09      16.65   -0.56   \n",
      "\n",
      "    pct_chg         vol       amount  close_nor  \n",
      "0    0.9783  1730061.42  2506504.217   0.950617  \n",
      "1    4.6053  1531779.06  2141637.065   0.777778  \n",
      "2   -5.5901  1781408.87  2479769.555   0.000000  \n",
      "3   -2.7517  1118407.34  1637278.471   1.000000  \n",
      "4   -0.3861   414955.56   322981.454   0.392857  \n",
      "5    1.8349   415200.83   318505.390   0.500000  \n",
      "6   -3.5398   489622.95   379252.434   0.000000  \n",
      "7   -1.2484   227708.66   180826.437   1.000000  \n",
      "8    7.5435  2216236.20  3669244.186   1.000000  \n",
      "9    4.7973  2100986.64  3180485.804   0.377660  \n",
      "10  -8.0174  2098842.33  3215504.868   0.000000  \n",
      "11  -3.3634  1125945.20  1852414.494   0.686170  \n"
     ]
    }
   ],
   "source": [
    "min_max_tr=lambda x:(x-x.min())/(x.max()-x.min())  #0-1之间\n",
    "s_data['close_nor']=s_data.groupby('ts_code')['close'].apply(min_max_tr)\n",
    "print(s_data)"
   ]
  },
  {
   "cell_type": "code",
   "execution_count": 1,
   "id": "b315373f",
   "metadata": {},
   "outputs": [
    {
     "name": "stdout",
     "output_type": "stream",
     "text": [
      "1,1,2,3,5,8,\n"
     ]
    }
   ],
   "source": [
    "def fib(n):\n",
    "    a,b=1,1\n",
    "    while a<n:\n",
    "        print(a,end=',')\n",
    "        a,b=b,a+b\n",
    "    print()\n",
    "fib(10)"
   ]
  }
 ],
 "metadata": {
  "kernelspec": {
   "display_name": "Python 3 (ipykernel)",
   "language": "python",
   "name": "python3"
  },
  "language_info": {
   "codemirror_mode": {
    "name": "ipython",
    "version": 3
   },
   "file_extension": ".py",
   "mimetype": "text/x-python",
   "name": "python",
   "nbconvert_exporter": "python",
   "pygments_lexer": "ipython3",
   "version": "3.7.11"
  },
  "toc": {
   "base_numbering": 1,
   "nav_menu": {},
   "number_sections": true,
   "sideBar": true,
   "skip_h1_title": false,
   "title_cell": "Table of Contents",
   "title_sidebar": "Contents",
   "toc_cell": false,
   "toc_position": {},
   "toc_section_display": true,
   "toc_window_display": true
  }
 },
 "nbformat": 4,
 "nbformat_minor": 5
}
