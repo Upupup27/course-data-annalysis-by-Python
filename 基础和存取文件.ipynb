{
 "cells": [
  {
   "cell_type": "code",
   "execution_count": 1,
   "id": "1dadde5c",
   "metadata": {},
   "outputs": [
    {
     "name": "stdout",
     "output_type": "stream",
     "text": [
      "[1 2 3 4 5]\n"
     ]
    }
   ],
   "source": [
    "#一维\n",
    "import numpy as np \n",
    "data1=[1,2,3,4,5]\n",
    "array1=np.array(data1)\n",
    "print(array1)"
   ]
  },
  {
   "cell_type": "code",
   "execution_count": 2,
   "id": "d0210127",
   "metadata": {},
   "outputs": [
    {
     "name": "stdout",
     "output_type": "stream",
     "text": [
      "[[1 2 3]\n",
      " [4 5 6]]\n"
     ]
    }
   ],
   "source": [
    "#二维\n",
    "data2=[[1,2,3],[4,5,6]]\n",
    "array2=np.array(data2)\n",
    "print(array2)"
   ]
  },
  {
   "cell_type": "code",
   "execution_count": 3,
   "id": "70aa08ae",
   "metadata": {},
   "outputs": [
    {
     "name": "stdout",
     "output_type": "stream",
     "text": [
      "[[[1 2 3]\n",
      "  [4 5 6]]]\n"
     ]
    }
   ],
   "source": [
    "#三维\n",
    "data2=[[[1,2,3],[4,5,6]]]\n",
    "array2=np.array(data2)\n",
    "print(array2)"
   ]
  },
  {
   "cell_type": "markdown",
   "id": "de53950a",
   "metadata": {},
   "source": [
    "# series"
   ]
  },
  {
   "cell_type": "markdown",
   "id": "f6dbf782",
   "metadata": {},
   "source": [
    "## 基础"
   ]
  },
  {
   "cell_type": "markdown",
   "id": "9c37ba80",
   "metadata": {},
   "source": [
    "Series：一维数组，与Numpy中的一维array类似。二者与Python基本的数据结构List也很相近。Series如今能保存不同种数据类型，字符串、boolean值、数字等都能保存在Series中。 Series用于存储一行或一列数据，以及与之相关的索引集合。 使用方法： Series([数据1，数据2，……],index=[索引1，索引2，……])"
   ]
  },
  {
   "cell_type": "code",
   "execution_count": 4,
   "id": "e3630056",
   "metadata": {},
   "outputs": [],
   "source": [
    "from pandas import Series\n",
    "s = Series([1,4,'ww','tt'])  #s是一个对象，一维数组"
   ]
  },
  {
   "cell_type": "code",
   "execution_count": 5,
   "id": "32fbe50a",
   "metadata": {},
   "outputs": [
    {
     "data": {
      "text/plain": [
       "0     1\n",
       "1     4\n",
       "2    ww\n",
       "3    tt\n",
       "dtype: object"
      ]
     },
     "execution_count": 5,
     "metadata": {},
     "output_type": "execute_result"
    }
   ],
   "source": [
    "s"
   ]
  },
  {
   "cell_type": "code",
   "execution_count": 7,
   "id": "d8ccffa8",
   "metadata": {},
   "outputs": [
    {
     "data": {
      "text/plain": [
       "'ww'"
      ]
     },
     "execution_count": 7,
     "metadata": {},
     "output_type": "execute_result"
    }
   ],
   "source": [
    "s[2] #不需要说明位置"
   ]
  },
  {
   "cell_type": "code",
   "execution_count": 8,
   "id": "55c91a0d",
   "metadata": {},
   "outputs": [
    {
     "data": {
      "text/plain": [
       "1     4\n",
       "2    ww\n",
       "3    tt\n",
       "dtype: object"
      ]
     },
     "execution_count": 8,
     "metadata": {},
     "output_type": "execute_result"
    }
   ],
   "source": [
    "s[1:]"
   ]
  },
  {
   "cell_type": "markdown",
   "id": "7a9e17e1",
   "metadata": {},
   "source": [
    "## s对象方法"
   ]
  },
  {
   "cell_type": "code",
   "execution_count": 9,
   "id": "2d541128",
   "metadata": {},
   "outputs": [
    {
     "data": {
      "text/plain": [
       "RangeIndex(start=0, stop=4, step=1)"
      ]
     },
     "execution_count": 9,
     "metadata": {},
     "output_type": "execute_result"
    }
   ],
   "source": [
    "s.index"
   ]
  },
  {
   "cell_type": "code",
   "execution_count": 10,
   "id": "075e9566",
   "metadata": {},
   "outputs": [
    {
     "data": {
      "text/plain": [
       "array([1, 4, 'ww', 'tt'], dtype=object)"
      ]
     },
     "execution_count": 10,
     "metadata": {},
     "output_type": "execute_result"
    }
   ],
   "source": [
    "s.values"
   ]
  },
  {
   "cell_type": "markdown",
   "id": "6399e4d7",
   "metadata": {},
   "source": [
    "## 赋值"
   ]
  },
  {
   "cell_type": "code",
   "execution_count": 11,
   "id": "07db3ff4",
   "metadata": {},
   "outputs": [],
   "source": [
    "s2 = Series(['wangxing','man',24],index=['name','sex','age'])"
   ]
  },
  {
   "cell_type": "markdown",
   "id": "3645a2fd",
   "metadata": {},
   "source": [
    "## 读取值"
   ]
  },
  {
   "cell_type": "code",
   "execution_count": 14,
   "id": "d95d7acb",
   "metadata": {},
   "outputs": [
    {
     "data": {
      "text/plain": [
       "'wangxing'"
      ]
     },
     "execution_count": 14,
     "metadata": {},
     "output_type": "execute_result"
    }
   ],
   "source": [
    "s2['name']\n",
    "s2[0]"
   ]
  },
  {
   "cell_type": "markdown",
   "id": "e709527a",
   "metadata": {},
   "source": [
    "## 更改值"
   ]
  },
  {
   "cell_type": "code",
   "execution_count": 15,
   "id": "41668527",
   "metadata": {},
   "outputs": [
    {
     "name": "stdout",
     "output_type": "stream",
     "text": [
      "name    李玲鞠\n",
      "sex     man\n",
      "age      24\n",
      "dtype: object\n"
     ]
    }
   ],
   "source": [
    "s2['name'] = '李玲鞠'\n",
    "print(s2)"
   ]
  },
  {
   "cell_type": "markdown",
   "id": "65f501e1",
   "metadata": {},
   "source": [
    "## 像字典"
   ]
  },
  {
   "cell_type": "code",
   "execution_count": 16,
   "id": "e542224f",
   "metadata": {},
   "outputs": [
    {
     "data": {
      "text/plain": [
       "python    9000\n",
       "c++       9001\n",
       "c#        9000\n",
       "dtype: int64"
      ]
     },
     "execution_count": 16,
     "metadata": {},
     "output_type": "execute_result"
    }
   ],
   "source": [
    "sd = {'python':9000,'c++':9001,'c#':9000}\n",
    "s3=Series(sd)\n",
    "s3"
   ]
  },
  {
   "cell_type": "markdown",
   "id": "73a6f0ef",
   "metadata": {},
   "source": [
    "# DataFrame"
   ]
  },
  {
   "cell_type": "markdown",
   "id": "00e6ce79",
   "metadata": {},
   "source": [
    "## 基础"
   ]
  },
  {
   "cell_type": "markdown",
   "id": "26ba7810",
   "metadata": {},
   "source": [
    "DataFrame：二维的表格型数据结构,用于存储多行和多列的数据集合。可以将DataFrame理解为Series的容器，类似于Excel的二维表格。它的竖行称之为 columns，横行跟前面的 Series 一样，称之为 index，也就是说可以通过 columns 和 index 来确定一个主句的位置。（series容器）"
   ]
  },
  {
   "cell_type": "code",
   "execution_count": 17,
   "id": "5ec04e5b",
   "metadata": {},
   "outputs": [
    {
     "name": "stdout",
     "output_type": "stream",
     "text": [
      "      name  marks  price\n",
      "0   google    100      1\n",
      "1    baidu    200      2\n",
      "2  alibaba    300      3\n"
     ]
    }
   ],
   "source": [
    "from pandas import DataFrame\n",
    "data = {\"name\":['google','baidu','alibaba'],\"marks\":[100,200,300],\"price\":[1,2,3]}\n",
    "f1 = DataFrame(data) \n",
    "print(f1) "
   ]
  },
  {
   "cell_type": "markdown",
   "id": "ac3746f2",
   "metadata": {},
   "source": [
    "## 访问！ iloc\\loc"
   ]
  },
  {
   "cell_type": "code",
   "execution_count": 22,
   "id": "77a3e41f",
   "metadata": {},
   "outputs": [
    {
     "data": {
      "text/plain": [
       "'baidu'"
      ]
     },
     "execution_count": 22,
     "metadata": {},
     "output_type": "execute_result"
    }
   ],
   "source": [
    "f1.at[1,'name']"
   ]
  },
  {
   "cell_type": "markdown",
   "id": "48e2a6a6",
   "metadata": {},
   "source": [
    "先行后列用at，先列后行不用at"
   ]
  },
  {
   "cell_type": "code",
   "execution_count": 50,
   "id": "ce854ce9",
   "metadata": {},
   "outputs": [
    {
     "name": "stdout",
     "output_type": "stream",
     "text": [
      "baidu\n",
      "baidu\n"
     ]
    }
   ],
   "source": [
    "print(f1.at[1,'name'])\n",
    "print(f1['name'][1])"
   ]
  },
  {
   "cell_type": "code",
   "execution_count": 49,
   "id": "f7ca046e",
   "metadata": {
    "scrolled": true
   },
   "outputs": [
    {
     "name": "stdout",
     "output_type": "stream",
     "text": [
      "google\n",
      "------1------\n",
      "a     google\n",
      "b      baidu\n",
      "c    alibaba\n",
      "Name: name, dtype: object\n",
      "------2------\n",
      "      name  marks  price\n",
      "b    baidu    200      2\n",
      "c  alibaba    300      3\n",
      "------3------\n",
      "      name  marks\n",
      "b    baidu    200\n",
      "c  alibaba    300\n",
      "------4------\n",
      "      name  marks\n",
      "b    baidu    200\n",
      "c  alibaba    300\n"
     ]
    }
   ],
   "source": [
    "print(f4['name'][0]) #访问（列名、行名）位置的数据\n",
    "print('------1------')\n",
    "print(f4['name'])  #访问列\n",
    "print('------2------')\n",
    "print(f4[1:])      #访问行（左闭右开区间）\n",
    "print('------3------')\n",
    "print(f4.iloc[1:,:2]) #访问块（第一个是行范围，第二个是列范围，都是左闭右开区\n",
    "print('------4------')\n",
    "print(f4.loc['b':,:'marks']) #访问块（第一个是行范围，第二个是列范围，都是标签名）"
   ]
  },
  {
   "cell_type": "markdown",
   "id": "0d37a48e",
   "metadata": {},
   "source": [
    "### iloc\\loc 高级用法"
   ]
  },
  {
   "cell_type": "code",
   "execution_count": 1,
   "id": "a2c8ee09",
   "metadata": {},
   "outputs": [
    {
     "name": "stdout",
     "output_type": "stream",
     "text": [
      "      name  marks  price\n",
      "0   google    100      1\n",
      "1    baidu    200      2\n",
      "2  alibaba    300      3\n"
     ]
    }
   ],
   "source": [
    "from pandas import DataFrame\n",
    "data = {\"name\":['google','baidu','alibaba'],\"marks\":[100,200,300],\"price\":[1,2,3]}\n",
    "f1 = DataFrame(data) \n",
    "print(f1) "
   ]
  },
  {
   "cell_type": "markdown",
   "id": "a2c90b16",
   "metadata": {},
   "source": [
    "利用arry数组True、False取值"
   ]
  },
  {
   "cell_type": "code",
   "execution_count": 2,
   "id": "829be7cd",
   "metadata": {},
   "outputs": [
    {
     "data": {
      "text/html": [
       "<div>\n",
       "<style scoped>\n",
       "    .dataframe tbody tr th:only-of-type {\n",
       "        vertical-align: middle;\n",
       "    }\n",
       "\n",
       "    .dataframe tbody tr th {\n",
       "        vertical-align: top;\n",
       "    }\n",
       "\n",
       "    .dataframe thead th {\n",
       "        text-align: right;\n",
       "    }\n",
       "</style>\n",
       "<table border=\"1\" class=\"dataframe\">\n",
       "  <thead>\n",
       "    <tr style=\"text-align: right;\">\n",
       "      <th></th>\n",
       "      <th>name</th>\n",
       "    </tr>\n",
       "  </thead>\n",
       "  <tbody>\n",
       "    <tr>\n",
       "      <th>0</th>\n",
       "      <td>google</td>\n",
       "    </tr>\n",
       "    <tr>\n",
       "      <th>1</th>\n",
       "      <td>baidu</td>\n",
       "    </tr>\n",
       "    <tr>\n",
       "      <th>2</th>\n",
       "      <td>alibaba</td>\n",
       "    </tr>\n",
       "  </tbody>\n",
       "</table>\n",
       "</div>"
      ],
      "text/plain": [
       "      name\n",
       "0   google\n",
       "1    baidu\n",
       "2  alibaba"
      ]
     },
     "execution_count": 2,
     "metadata": {},
     "output_type": "execute_result"
    }
   ],
   "source": [
    "a=([True,False,False])\n",
    "f1.iloc[:,a]"
   ]
  },
  {
   "cell_type": "markdown",
   "id": "ce809ee3",
   "metadata": {},
   "source": [
    "利用loc增加行列\n",
    "\n",
    "iloc是取下标，不能超出数据，但loc是取标签，可以增加"
   ]
  },
  {
   "cell_type": "code",
   "execution_count": 4,
   "id": "831cb202",
   "metadata": {},
   "outputs": [
    {
     "data": {
      "text/html": [
       "<div>\n",
       "<style scoped>\n",
       "    .dataframe tbody tr th:only-of-type {\n",
       "        vertical-align: middle;\n",
       "    }\n",
       "\n",
       "    .dataframe tbody tr th {\n",
       "        vertical-align: top;\n",
       "    }\n",
       "\n",
       "    .dataframe thead th {\n",
       "        text-align: right;\n",
       "    }\n",
       "</style>\n",
       "<table border=\"1\" class=\"dataframe\">\n",
       "  <thead>\n",
       "    <tr style=\"text-align: right;\">\n",
       "      <th></th>\n",
       "      <th>name</th>\n",
       "      <th>marks</th>\n",
       "      <th>price</th>\n",
       "    </tr>\n",
       "  </thead>\n",
       "  <tbody>\n",
       "    <tr>\n",
       "      <th>0</th>\n",
       "      <td>google</td>\n",
       "      <td>100.0</td>\n",
       "      <td>1.0</td>\n",
       "    </tr>\n",
       "    <tr>\n",
       "      <th>1</th>\n",
       "      <td>baidu</td>\n",
       "      <td>200.0</td>\n",
       "      <td>2.0</td>\n",
       "    </tr>\n",
       "    <tr>\n",
       "      <th>2</th>\n",
       "      <td>alibaba</td>\n",
       "      <td>300.0</td>\n",
       "      <td>3.0</td>\n",
       "    </tr>\n",
       "    <tr>\n",
       "      <th>3</th>\n",
       "      <td>None</td>\n",
       "      <td>NaN</td>\n",
       "      <td>NaN</td>\n",
       "    </tr>\n",
       "  </tbody>\n",
       "</table>\n",
       "</div>"
      ],
      "text/plain": [
       "      name  marks  price\n",
       "0   google  100.0    1.0\n",
       "1    baidu  200.0    2.0\n",
       "2  alibaba  300.0    3.0\n",
       "3     None    NaN    NaN"
      ]
     },
     "execution_count": 4,
     "metadata": {},
     "output_type": "execute_result"
    }
   ],
   "source": [
    "f1.loc[3,:]=None\n",
    "f1"
   ]
  },
  {
   "cell_type": "code",
   "execution_count": null,
   "id": "05afa77f",
   "metadata": {},
   "outputs": [],
   "source": []
  },
  {
   "cell_type": "markdown",
   "id": "08cdb654",
   "metadata": {},
   "source": [
    "## 更改列顺序"
   ]
  },
  {
   "cell_type": "code",
   "execution_count": 23,
   "id": "5c3df07f",
   "metadata": {},
   "outputs": [
    {
     "data": {
      "text/html": [
       "<div>\n",
       "<style scoped>\n",
       "    .dataframe tbody tr th:only-of-type {\n",
       "        vertical-align: middle;\n",
       "    }\n",
       "\n",
       "    .dataframe tbody tr th {\n",
       "        vertical-align: top;\n",
       "    }\n",
       "\n",
       "    .dataframe thead th {\n",
       "        text-align: right;\n",
       "    }\n",
       "</style>\n",
       "<table border=\"1\" class=\"dataframe\">\n",
       "  <thead>\n",
       "    <tr style=\"text-align: right;\">\n",
       "      <th></th>\n",
       "      <th>name</th>\n",
       "      <th>price</th>\n",
       "      <th>marks</th>\n",
       "    </tr>\n",
       "  </thead>\n",
       "  <tbody>\n",
       "    <tr>\n",
       "      <th>0</th>\n",
       "      <td>google</td>\n",
       "      <td>1</td>\n",
       "      <td>100</td>\n",
       "    </tr>\n",
       "    <tr>\n",
       "      <th>1</th>\n",
       "      <td>baidu</td>\n",
       "      <td>2</td>\n",
       "      <td>200</td>\n",
       "    </tr>\n",
       "    <tr>\n",
       "      <th>2</th>\n",
       "      <td>alibaba</td>\n",
       "      <td>3</td>\n",
       "      <td>300</td>\n",
       "    </tr>\n",
       "  </tbody>\n",
       "</table>\n",
       "</div>"
      ],
      "text/plain": [
       "      name  price  marks\n",
       "0   google      1    100\n",
       "1    baidu      2    200\n",
       "2  alibaba      3    300"
      ]
     },
     "execution_count": 23,
     "metadata": {},
     "output_type": "execute_result"
    }
   ],
   "source": [
    "f3=DataFrame(data,columns=['name','price','marks'])\n",
    "f3"
   ]
  },
  {
   "cell_type": "markdown",
   "id": "8519e813",
   "metadata": {},
   "source": [
    "## 更改索引"
   ]
  },
  {
   "cell_type": "code",
   "execution_count": 24,
   "id": "2a15f906",
   "metadata": {},
   "outputs": [
    {
     "data": {
      "text/html": [
       "<div>\n",
       "<style scoped>\n",
       "    .dataframe tbody tr th:only-of-type {\n",
       "        vertical-align: middle;\n",
       "    }\n",
       "\n",
       "    .dataframe tbody tr th {\n",
       "        vertical-align: top;\n",
       "    }\n",
       "\n",
       "    .dataframe thead th {\n",
       "        text-align: right;\n",
       "    }\n",
       "</style>\n",
       "<table border=\"1\" class=\"dataframe\">\n",
       "  <thead>\n",
       "    <tr style=\"text-align: right;\">\n",
       "      <th></th>\n",
       "      <th>name</th>\n",
       "      <th>marks</th>\n",
       "      <th>price</th>\n",
       "    </tr>\n",
       "  </thead>\n",
       "  <tbody>\n",
       "    <tr>\n",
       "      <th>a</th>\n",
       "      <td>google</td>\n",
       "      <td>100</td>\n",
       "      <td>1</td>\n",
       "    </tr>\n",
       "    <tr>\n",
       "      <th>b</th>\n",
       "      <td>baidu</td>\n",
       "      <td>200</td>\n",
       "      <td>2</td>\n",
       "    </tr>\n",
       "    <tr>\n",
       "      <th>c</th>\n",
       "      <td>alibaba</td>\n",
       "      <td>300</td>\n",
       "      <td>3</td>\n",
       "    </tr>\n",
       "  </tbody>\n",
       "</table>\n",
       "</div>"
      ],
      "text/plain": [
       "      name  marks  price\n",
       "a   google    100      1\n",
       "b    baidu    200      2\n",
       "c  alibaba    300      3"
      ]
     },
     "execution_count": 24,
     "metadata": {},
     "output_type": "execute_result"
    }
   ],
   "source": [
    "f4 = DataFrame(data,columns=['name','marks','price'], index=['a','b','c'])\n",
    "f4"
   ]
  },
  {
   "cell_type": "markdown",
   "id": "1b005c71",
   "metadata": {},
   "source": [
    "## 修改数据"
   ]
  },
  {
   "cell_type": "code",
   "execution_count": 51,
   "id": "21469874",
   "metadata": {},
   "outputs": [
    {
     "data": {
      "text/html": [
       "<div>\n",
       "<style scoped>\n",
       "    .dataframe tbody tr th:only-of-type {\n",
       "        vertical-align: middle;\n",
       "    }\n",
       "\n",
       "    .dataframe tbody tr th {\n",
       "        vertical-align: top;\n",
       "    }\n",
       "\n",
       "    .dataframe thead th {\n",
       "        text-align: right;\n",
       "    }\n",
       "</style>\n",
       "<table border=\"1\" class=\"dataframe\">\n",
       "  <thead>\n",
       "    <tr style=\"text-align: right;\">\n",
       "      <th></th>\n",
       "      <th>name</th>\n",
       "      <th>marks</th>\n",
       "      <th>price</th>\n",
       "    </tr>\n",
       "  </thead>\n",
       "  <tbody>\n",
       "    <tr>\n",
       "      <th>a</th>\n",
       "      <td>youtube</td>\n",
       "      <td>100</td>\n",
       "      <td>1</td>\n",
       "    </tr>\n",
       "    <tr>\n",
       "      <th>b</th>\n",
       "      <td>baidu</td>\n",
       "      <td>200</td>\n",
       "      <td>2</td>\n",
       "    </tr>\n",
       "    <tr>\n",
       "      <th>c</th>\n",
       "      <td>alibaba</td>\n",
       "      <td>300</td>\n",
       "      <td>3</td>\n",
       "    </tr>\n",
       "  </tbody>\n",
       "</table>\n",
       "</div>"
      ],
      "text/plain": [
       "      name  marks  price\n",
       "a  youtube    100      1\n",
       "b    baidu    200      2\n",
       "c  alibaba    300      3"
      ]
     },
     "execution_count": 51,
     "metadata": {},
     "output_type": "execute_result"
    }
   ],
   "source": [
    "f4.loc['a','name']='youtube' #修改数据\n",
    "f4"
   ]
  },
  {
   "cell_type": "markdown",
   "id": "cc024f8a",
   "metadata": {},
   "source": [
    "# 作业"
   ]
  },
  {
   "cell_type": "markdown",
   "id": "457cb48c",
   "metadata": {},
   "source": [
    "## 存取CSV"
   ]
  },
  {
   "cell_type": "code",
   "execution_count": 52,
   "id": "7a23dfdf",
   "metadata": {},
   "outputs": [],
   "source": [
    "f4.to_csv('E:\\作业\\Python商业数据分析\\c2-1.csv')"
   ]
  },
  {
   "cell_type": "code",
   "execution_count": 58,
   "id": "5d13c29b",
   "metadata": {},
   "outputs": [
    {
     "data": {
      "text/html": [
       "<div>\n",
       "<style scoped>\n",
       "    .dataframe tbody tr th:only-of-type {\n",
       "        vertical-align: middle;\n",
       "    }\n",
       "\n",
       "    .dataframe tbody tr th {\n",
       "        vertical-align: top;\n",
       "    }\n",
       "\n",
       "    .dataframe thead th {\n",
       "        text-align: right;\n",
       "    }\n",
       "</style>\n",
       "<table border=\"1\" class=\"dataframe\">\n",
       "  <thead>\n",
       "    <tr style=\"text-align: right;\">\n",
       "      <th></th>\n",
       "      <th>Unnamed: 0</th>\n",
       "      <th>name</th>\n",
       "      <th>marks</th>\n",
       "      <th>price</th>\n",
       "    </tr>\n",
       "  </thead>\n",
       "  <tbody>\n",
       "    <tr>\n",
       "      <th>0</th>\n",
       "      <td>a</td>\n",
       "      <td>youtube</td>\n",
       "      <td>100</td>\n",
       "      <td>1</td>\n",
       "    </tr>\n",
       "    <tr>\n",
       "      <th>1</th>\n",
       "      <td>b</td>\n",
       "      <td>baidu</td>\n",
       "      <td>200</td>\n",
       "      <td>2</td>\n",
       "    </tr>\n",
       "    <tr>\n",
       "      <th>2</th>\n",
       "      <td>c</td>\n",
       "      <td>alibaba</td>\n",
       "      <td>300</td>\n",
       "      <td>3</td>\n",
       "    </tr>\n",
       "  </tbody>\n",
       "</table>\n",
       "</div>"
      ],
      "text/plain": [
       "  Unnamed: 0     name  marks  price\n",
       "0          a  youtube    100      1\n",
       "1          b    baidu    200      2\n",
       "2          c  alibaba    300      3"
      ]
     },
     "execution_count": 58,
     "metadata": {},
     "output_type": "execute_result"
    }
   ],
   "source": [
    "import pandas as pd\n",
    "pd.read_csv('E:\\作业\\Python商业数据分析\\c2-1.csv')"
   ]
  },
  {
   "cell_type": "markdown",
   "id": "0eb31f4f",
   "metadata": {},
   "source": [
    "## 存取Excel"
   ]
  },
  {
   "cell_type": "code",
   "execution_count": 59,
   "id": "3f20ec70",
   "metadata": {},
   "outputs": [],
   "source": [
    "f4.to_excel('E:\\作业\\Python商业数据分析\\c2-1.xlsx')"
   ]
  },
  {
   "cell_type": "code",
   "execution_count": 63,
   "id": "636434de",
   "metadata": {},
   "outputs": [
    {
     "data": {
      "text/html": [
       "<div>\n",
       "<style scoped>\n",
       "    .dataframe tbody tr th:only-of-type {\n",
       "        vertical-align: middle;\n",
       "    }\n",
       "\n",
       "    .dataframe tbody tr th {\n",
       "        vertical-align: top;\n",
       "    }\n",
       "\n",
       "    .dataframe thead th {\n",
       "        text-align: right;\n",
       "    }\n",
       "</style>\n",
       "<table border=\"1\" class=\"dataframe\">\n",
       "  <thead>\n",
       "    <tr style=\"text-align: right;\">\n",
       "      <th></th>\n",
       "      <th>Unnamed: 0</th>\n",
       "      <th>name</th>\n",
       "      <th>marks</th>\n",
       "      <th>price</th>\n",
       "    </tr>\n",
       "  </thead>\n",
       "  <tbody>\n",
       "    <tr>\n",
       "      <th>0</th>\n",
       "      <td>a</td>\n",
       "      <td>youtube</td>\n",
       "      <td>100</td>\n",
       "      <td>1</td>\n",
       "    </tr>\n",
       "    <tr>\n",
       "      <th>1</th>\n",
       "      <td>b</td>\n",
       "      <td>baidu</td>\n",
       "      <td>200</td>\n",
       "      <td>2</td>\n",
       "    </tr>\n",
       "    <tr>\n",
       "      <th>2</th>\n",
       "      <td>c</td>\n",
       "      <td>alibaba</td>\n",
       "      <td>300</td>\n",
       "      <td>3</td>\n",
       "    </tr>\n",
       "  </tbody>\n",
       "</table>\n",
       "</div>"
      ],
      "text/plain": [
       "  Unnamed: 0     name  marks  price\n",
       "0          a  youtube    100      1\n",
       "1          b    baidu    200      2\n",
       "2          c  alibaba    300      3"
      ]
     },
     "execution_count": 63,
     "metadata": {},
     "output_type": "execute_result"
    }
   ],
   "source": [
    "pd.read_excel('E:\\作业\\Python商业数据分析\\c2-1.xlsx')"
   ]
  },
  {
   "cell_type": "markdown",
   "id": "d4ec1592",
   "metadata": {},
   "source": [
    "读取并创建数据表（dateframe）"
   ]
  },
  {
   "cell_type": "code",
   "execution_count": 66,
   "id": "71b4321e",
   "metadata": {},
   "outputs": [
    {
     "data": {
      "text/html": [
       "<div>\n",
       "<style scoped>\n",
       "    .dataframe tbody tr th:only-of-type {\n",
       "        vertical-align: middle;\n",
       "    }\n",
       "\n",
       "    .dataframe tbody tr th {\n",
       "        vertical-align: top;\n",
       "    }\n",
       "\n",
       "    .dataframe thead th {\n",
       "        text-align: right;\n",
       "    }\n",
       "</style>\n",
       "<table border=\"1\" class=\"dataframe\">\n",
       "  <thead>\n",
       "    <tr style=\"text-align: right;\">\n",
       "      <th></th>\n",
       "      <th>Unnamed: 0</th>\n",
       "      <th>name</th>\n",
       "      <th>marks</th>\n",
       "      <th>price</th>\n",
       "    </tr>\n",
       "  </thead>\n",
       "  <tbody>\n",
       "    <tr>\n",
       "      <th>0</th>\n",
       "      <td>a</td>\n",
       "      <td>youtube</td>\n",
       "      <td>100</td>\n",
       "      <td>1</td>\n",
       "    </tr>\n",
       "    <tr>\n",
       "      <th>1</th>\n",
       "      <td>b</td>\n",
       "      <td>baidu</td>\n",
       "      <td>200</td>\n",
       "      <td>2</td>\n",
       "    </tr>\n",
       "    <tr>\n",
       "      <th>2</th>\n",
       "      <td>c</td>\n",
       "      <td>alibaba</td>\n",
       "      <td>300</td>\n",
       "      <td>3</td>\n",
       "    </tr>\n",
       "  </tbody>\n",
       "</table>\n",
       "</div>"
      ],
      "text/plain": [
       "  Unnamed: 0     name  marks  price\n",
       "0          a  youtube    100      1\n",
       "1          b    baidu    200      2\n",
       "2          c  alibaba    300      3"
      ]
     },
     "execution_count": 66,
     "metadata": {},
     "output_type": "execute_result"
    }
   ],
   "source": [
    "df=pd.DataFrame(pd.read_excel('E:\\作业\\Python商业数据分析\\c2-1.xlsx'))\n",
    "df"
   ]
  },
  {
   "cell_type": "markdown",
   "id": "dc6b9865",
   "metadata": {},
   "source": [
    "## 挖地兔tushare数据存取"
   ]
  },
  {
   "cell_type": "markdown",
   "id": "f5b9beb8",
   "metadata": {},
   "source": [
    "### 导入tushare包并获取数据"
   ]
  },
  {
   "cell_type": "code",
   "execution_count": 1,
   "id": "4223557b",
   "metadata": {},
   "outputs": [
    {
     "name": "stdout",
     "output_type": "stream",
     "text": [
      "本接口即将停止更新，请尽快使用Pro版接口：https://tushare.pro/document/2\n"
     ]
    },
    {
     "data": {
      "text/html": [
       "<div>\n",
       "<style scoped>\n",
       "    .dataframe tbody tr th:only-of-type {\n",
       "        vertical-align: middle;\n",
       "    }\n",
       "\n",
       "    .dataframe tbody tr th {\n",
       "        vertical-align: top;\n",
       "    }\n",
       "\n",
       "    .dataframe thead th {\n",
       "        text-align: right;\n",
       "    }\n",
       "</style>\n",
       "<table border=\"1\" class=\"dataframe\">\n",
       "  <thead>\n",
       "    <tr style=\"text-align: right;\">\n",
       "      <th></th>\n",
       "      <th>open</th>\n",
       "      <th>high</th>\n",
       "      <th>close</th>\n",
       "      <th>low</th>\n",
       "      <th>volume</th>\n",
       "      <th>price_change</th>\n",
       "      <th>p_change</th>\n",
       "      <th>ma5</th>\n",
       "      <th>ma10</th>\n",
       "      <th>ma20</th>\n",
       "      <th>v_ma5</th>\n",
       "      <th>v_ma10</th>\n",
       "      <th>v_ma20</th>\n",
       "      <th>turnover</th>\n",
       "    </tr>\n",
       "    <tr>\n",
       "      <th>date</th>\n",
       "      <th></th>\n",
       "      <th></th>\n",
       "      <th></th>\n",
       "      <th></th>\n",
       "      <th></th>\n",
       "      <th></th>\n",
       "      <th></th>\n",
       "      <th></th>\n",
       "      <th></th>\n",
       "      <th></th>\n",
       "      <th></th>\n",
       "      <th></th>\n",
       "      <th></th>\n",
       "      <th></th>\n",
       "    </tr>\n",
       "  </thead>\n",
       "  <tbody>\n",
       "    <tr>\n",
       "      <th>2022-03-03</th>\n",
       "      <td>8.85</td>\n",
       "      <td>8.90</td>\n",
       "      <td>8.66</td>\n",
       "      <td>8.58</td>\n",
       "      <td>680082.56</td>\n",
       "      <td>-0.07</td>\n",
       "      <td>-0.80</td>\n",
       "      <td>8.770</td>\n",
       "      <td>8.312</td>\n",
       "      <td>8.192</td>\n",
       "      <td>1277156.41</td>\n",
       "      <td>1019255.21</td>\n",
       "      <td>815503.91</td>\n",
       "      <td>2.78</td>\n",
       "    </tr>\n",
       "    <tr>\n",
       "      <th>2022-03-02</th>\n",
       "      <td>8.87</td>\n",
       "      <td>8.93</td>\n",
       "      <td>8.73</td>\n",
       "      <td>8.58</td>\n",
       "      <td>954737.75</td>\n",
       "      <td>-0.17</td>\n",
       "      <td>-1.91</td>\n",
       "      <td>8.652</td>\n",
       "      <td>8.230</td>\n",
       "      <td>8.137</td>\n",
       "      <td>1459118.88</td>\n",
       "      <td>1001451.40</td>\n",
       "      <td>836756.81</td>\n",
       "      <td>3.90</td>\n",
       "    </tr>\n",
       "    <tr>\n",
       "      <th>2022-03-01</th>\n",
       "      <td>8.87</td>\n",
       "      <td>9.05</td>\n",
       "      <td>8.90</td>\n",
       "      <td>8.80</td>\n",
       "      <td>1007274.25</td>\n",
       "      <td>0.04</td>\n",
       "      <td>0.45</td>\n",
       "      <td>8.468</td>\n",
       "      <td>8.141</td>\n",
       "      <td>8.106</td>\n",
       "      <td>1360077.76</td>\n",
       "      <td>949909.28</td>\n",
       "      <td>826215.50</td>\n",
       "      <td>4.12</td>\n",
       "    </tr>\n",
       "    <tr>\n",
       "      <th>2022-02-28</th>\n",
       "      <td>8.60</td>\n",
       "      <td>9.00</td>\n",
       "      <td>8.86</td>\n",
       "      <td>8.53</td>\n",
       "      <td>1682938.75</td>\n",
       "      <td>0.16</td>\n",
       "      <td>1.84</td>\n",
       "      <td>8.218</td>\n",
       "      <td>8.045</td>\n",
       "      <td>8.066</td>\n",
       "      <td>1275711.31</td>\n",
       "      <td>889782.17</td>\n",
       "      <td>829984.85</td>\n",
       "      <td>6.88</td>\n",
       "    </tr>\n",
       "    <tr>\n",
       "      <th>2022-02-25</th>\n",
       "      <td>8.30</td>\n",
       "      <td>8.85</td>\n",
       "      <td>8.70</td>\n",
       "      <td>8.09</td>\n",
       "      <td>2060748.75</td>\n",
       "      <td>0.63</td>\n",
       "      <td>7.81</td>\n",
       "      <td>8.026</td>\n",
       "      <td>7.950</td>\n",
       "      <td>8.053</td>\n",
       "      <td>1073985.56</td>\n",
       "      <td>792812.97</td>\n",
       "      <td>800136.09</td>\n",
       "      <td>8.43</td>\n",
       "    </tr>\n",
       "  </tbody>\n",
       "</table>\n",
       "</div>"
      ],
      "text/plain": [
       "            open  high  close   low      volume  price_change  p_change  \\\n",
       "date                                                                      \n",
       "2022-03-03  8.85  8.90   8.66  8.58   680082.56         -0.07     -0.80   \n",
       "2022-03-02  8.87  8.93   8.73  8.58   954737.75         -0.17     -1.91   \n",
       "2022-03-01  8.87  9.05   8.90  8.80  1007274.25          0.04      0.45   \n",
       "2022-02-28  8.60  9.00   8.86  8.53  1682938.75          0.16      1.84   \n",
       "2022-02-25  8.30  8.85   8.70  8.09  2060748.75          0.63      7.81   \n",
       "\n",
       "              ma5   ma10   ma20       v_ma5      v_ma10     v_ma20  turnover  \n",
       "date                                                                          \n",
       "2022-03-03  8.770  8.312  8.192  1277156.41  1019255.21  815503.91      2.78  \n",
       "2022-03-02  8.652  8.230  8.137  1459118.88  1001451.40  836756.81      3.90  \n",
       "2022-03-01  8.468  8.141  8.106  1360077.76   949909.28  826215.50      4.12  \n",
       "2022-02-28  8.218  8.045  8.066  1275711.31   889782.17  829984.85      6.88  \n",
       "2022-02-25  8.026  7.950  8.053  1073985.56   792812.97  800136.09      8.43  "
      ]
     },
     "execution_count": 1,
     "metadata": {},
     "output_type": "execute_result"
    }
   ],
   "source": [
    "import tushare as ts\n",
    "df = ts.get_hist_data('000875')\n",
    "df.head()"
   ]
  },
  {
   "cell_type": "markdown",
   "id": "3b65686e",
   "metadata": {},
   "source": [
    "### 保存数据"
   ]
  },
  {
   "cell_type": "markdown",
   "id": "ab8b0f93",
   "metadata": {},
   "source": [
    "保存为CSV"
   ]
  },
  {
   "cell_type": "code",
   "execution_count": 3,
   "id": "c4a19f88",
   "metadata": {},
   "outputs": [],
   "source": [
    "df.to_csv('E:\\作业\\Python商业数据分析\\\\000875_1.csv') #直接保存,不转译加r''\n",
    "# df.to_csv(r'E:\\作业\\Python商业数据分析\\000875_2.csv',columns=['open','high','close','low']) #选择数据保存"
   ]
  },
  {
   "cell_type": "markdown",
   "id": "3f57d925",
   "metadata": {},
   "source": [
    "保存为excel"
   ]
  },
  {
   "cell_type": "code",
   "execution_count": 4,
   "id": "f3a38470",
   "metadata": {},
   "outputs": [],
   "source": [
    "df.to_excel('E:\\作业\\Python商业数据分析\\\\000875_1.xlsx') #直接保存,不转译加r''\n",
    "# df.to_excel(r'E:\\作业\\Python商业数据分析\\000875_2.xlsx',columns=['open','high','close','low']) #选择数据保存\n",
    "# df.to_excel(r'E:\\作业\\Python商业数据分析\\000875_3.xlsx',startrow=2,startcol=5) #从第三行第六列开始存"
   ]
  },
  {
   "cell_type": "markdown",
   "id": "666ec9e9",
   "metadata": {},
   "source": [
    "### 读取数据"
   ]
  },
  {
   "cell_type": "markdown",
   "id": "05fdb12d",
   "metadata": {},
   "source": [
    "读取csv"
   ]
  },
  {
   "cell_type": "code",
   "execution_count": 9,
   "id": "3b493705",
   "metadata": {
    "scrolled": true
   },
   "outputs": [
    {
     "data": {
      "text/html": [
       "<div>\n",
       "<style scoped>\n",
       "    .dataframe tbody tr th:only-of-type {\n",
       "        vertical-align: middle;\n",
       "    }\n",
       "\n",
       "    .dataframe tbody tr th {\n",
       "        vertical-align: top;\n",
       "    }\n",
       "\n",
       "    .dataframe thead th {\n",
       "        text-align: right;\n",
       "    }\n",
       "</style>\n",
       "<table border=\"1\" class=\"dataframe\">\n",
       "  <thead>\n",
       "    <tr style=\"text-align: right;\">\n",
       "      <th></th>\n",
       "      <th>date</th>\n",
       "      <th>open</th>\n",
       "      <th>high</th>\n",
       "      <th>close</th>\n",
       "      <th>low</th>\n",
       "      <th>volume</th>\n",
       "      <th>price_change</th>\n",
       "      <th>p_change</th>\n",
       "      <th>ma5</th>\n",
       "      <th>ma10</th>\n",
       "      <th>ma20</th>\n",
       "      <th>v_ma5</th>\n",
       "      <th>v_ma10</th>\n",
       "      <th>v_ma20</th>\n",
       "      <th>turnover</th>\n",
       "    </tr>\n",
       "  </thead>\n",
       "  <tbody>\n",
       "    <tr>\n",
       "      <th>0</th>\n",
       "      <td>2022-03-03</td>\n",
       "      <td>8.85</td>\n",
       "      <td>8.90</td>\n",
       "      <td>8.66</td>\n",
       "      <td>8.58</td>\n",
       "      <td>680082.56</td>\n",
       "      <td>-0.07</td>\n",
       "      <td>-0.80</td>\n",
       "      <td>8.770</td>\n",
       "      <td>8.312</td>\n",
       "      <td>8.192</td>\n",
       "      <td>1277156.41</td>\n",
       "      <td>1019255.21</td>\n",
       "      <td>815503.91</td>\n",
       "      <td>2.78</td>\n",
       "    </tr>\n",
       "    <tr>\n",
       "      <th>1</th>\n",
       "      <td>2022-03-02</td>\n",
       "      <td>8.87</td>\n",
       "      <td>8.93</td>\n",
       "      <td>8.73</td>\n",
       "      <td>8.58</td>\n",
       "      <td>954737.75</td>\n",
       "      <td>-0.17</td>\n",
       "      <td>-1.91</td>\n",
       "      <td>8.652</td>\n",
       "      <td>8.230</td>\n",
       "      <td>8.137</td>\n",
       "      <td>1459118.88</td>\n",
       "      <td>1001451.40</td>\n",
       "      <td>836756.81</td>\n",
       "      <td>3.90</td>\n",
       "    </tr>\n",
       "  </tbody>\n",
       "</table>\n",
       "</div>"
      ],
      "text/plain": [
       "         date  open  high  close   low     volume  price_change  p_change    ma5   ma10   ma20       v_ma5      v_ma10     v_ma20  turnover\n",
       "0  2022-03-03  8.85  8.90   8.66  8.58  680082.56         -0.07     -0.80  8.770  8.312  8.192  1277156.41  1019255.21  815503.91      2.78\n",
       "1  2022-03-02  8.87  8.93   8.73  8.58  954737.75         -0.17     -1.91  8.652  8.230  8.137  1459118.88  1001451.40  836756.81      3.90"
      ]
     },
     "execution_count": 9,
     "metadata": {},
     "output_type": "execute_result"
    }
   ],
   "source": [
    "import pandas as pd\n",
    "import numpy as np\n",
    "df = pd.read_csv('E:\\作业\\Python商业数据分析\\\\000875_1.csv')\n",
    "df.head(n=2)"
   ]
  },
  {
   "cell_type": "markdown",
   "id": "501bbc05",
   "metadata": {},
   "source": [
    "读取excel"
   ]
  },
  {
   "cell_type": "code",
   "execution_count": 8,
   "id": "cdb46fd3",
   "metadata": {},
   "outputs": [
    {
     "data": {
      "text/html": [
       "<div>\n",
       "<style scoped>\n",
       "    .dataframe tbody tr th:only-of-type {\n",
       "        vertical-align: middle;\n",
       "    }\n",
       "\n",
       "    .dataframe tbody tr th {\n",
       "        vertical-align: top;\n",
       "    }\n",
       "\n",
       "    .dataframe thead th {\n",
       "        text-align: right;\n",
       "    }\n",
       "</style>\n",
       "<table border=\"1\" class=\"dataframe\">\n",
       "  <thead>\n",
       "    <tr style=\"text-align: right;\">\n",
       "      <th></th>\n",
       "      <th>date</th>\n",
       "      <th>open</th>\n",
       "      <th>high</th>\n",
       "      <th>close</th>\n",
       "      <th>low</th>\n",
       "      <th>volume</th>\n",
       "      <th>price_change</th>\n",
       "      <th>p_change</th>\n",
       "      <th>ma5</th>\n",
       "      <th>ma10</th>\n",
       "      <th>ma20</th>\n",
       "      <th>v_ma5</th>\n",
       "      <th>v_ma10</th>\n",
       "      <th>v_ma20</th>\n",
       "      <th>turnover</th>\n",
       "    </tr>\n",
       "  </thead>\n",
       "  <tbody>\n",
       "    <tr>\n",
       "      <th>0</th>\n",
       "      <td>2022-03-03</td>\n",
       "      <td>8.85</td>\n",
       "      <td>8.90</td>\n",
       "      <td>8.66</td>\n",
       "      <td>8.58</td>\n",
       "      <td>680082.56</td>\n",
       "      <td>-0.07</td>\n",
       "      <td>-0.80</td>\n",
       "      <td>8.770</td>\n",
       "      <td>8.312</td>\n",
       "      <td>8.192</td>\n",
       "      <td>1277156.41</td>\n",
       "      <td>1019255.21</td>\n",
       "      <td>815503.91</td>\n",
       "      <td>2.78</td>\n",
       "    </tr>\n",
       "    <tr>\n",
       "      <th>1</th>\n",
       "      <td>2022-03-02</td>\n",
       "      <td>8.87</td>\n",
       "      <td>8.93</td>\n",
       "      <td>8.73</td>\n",
       "      <td>8.58</td>\n",
       "      <td>954737.75</td>\n",
       "      <td>-0.17</td>\n",
       "      <td>-1.91</td>\n",
       "      <td>8.652</td>\n",
       "      <td>8.230</td>\n",
       "      <td>8.137</td>\n",
       "      <td>1459118.88</td>\n",
       "      <td>1001451.40</td>\n",
       "      <td>836756.81</td>\n",
       "      <td>3.90</td>\n",
       "    </tr>\n",
       "  </tbody>\n",
       "</table>\n",
       "</div>"
      ],
      "text/plain": [
       "         date  open  high  close   low     volume  price_change  p_change    ma5   ma10   ma20       v_ma5      v_ma10     v_ma20  turnover\n",
       "0  2022-03-03  8.85  8.90   8.66  8.58  680082.56         -0.07     -0.80  8.770  8.312  8.192  1277156.41  1019255.21  815503.91      2.78\n",
       "1  2022-03-02  8.87  8.93   8.73  8.58  954737.75         -0.17     -1.91  8.652  8.230  8.137  1459118.88  1001451.40  836756.81      3.90"
      ]
     },
     "execution_count": 8,
     "metadata": {},
     "output_type": "execute_result"
    }
   ],
   "source": [
    "import pandas as pd\n",
    "import numpy as np\n",
    "df = pd.read_excel('E:\\作业\\Python商业数据分析\\\\000875_1.xlsx')\n",
    "df.head(n=2)"
   ]
  },
  {
   "cell_type": "markdown",
   "id": "2b86d06f",
   "metadata": {},
   "source": [
    "### 读取数据到内存"
   ]
  },
  {
   "cell_type": "markdown",
   "id": "fb4d69e9",
   "metadata": {},
   "source": [
    "#### 读取挖地兔数据"
   ]
  },
  {
   "cell_type": "code",
   "execution_count": 3,
   "id": "84002d7d",
   "metadata": {},
   "outputs": [
    {
     "name": "stdout",
     "output_type": "stream",
     "text": [
      "本接口即将停止更新，请尽快使用Pro版接口：https://tushare.pro/document/2\n",
      "本接口即将停止更新，请尽快使用Pro版接口：https://tushare.pro/document/2\n",
      "本接口即将停止更新，请尽快使用Pro版接口：https://tushare.pro/document/2\n",
      "<class 'pandas.core.frame.DataFrame'>\n",
      "Index: 602 entries, 2019-09-09 to 2022-03-07\n",
      "Data columns (total 3 columns):\n",
      " #   Column  Non-Null Count  Dtype  \n",
      "---  ------  --------------  -----  \n",
      " 0   600000  602 non-null    float64\n",
      " 1   000980  586 non-null    float64\n",
      " 2   000981  592 non-null    float64\n",
      "dtypes: float64(3)\n",
      "memory usage: 18.8+ KB\n"
     ]
    }
   ],
   "source": [
    "import tushare as ts\n",
    "import pandas as pd\n",
    "import numpy as np\n",
    "data = pd.DataFrame()\n",
    "data1 = ts.get_hist_data('600000')\n",
    "data1 = data1['close']\n",
    "data1 = data1[::-1]       #日期从远到进结束\n",
    "data['600000']= data1\n",
    "data2 = ts.get_hist_data('000980')\n",
    "data2 = data2['close']\n",
    "data2 = data2[::-1]\n",
    "data['000980']= data2\n",
    "data3 = ts.get_hist_data('000981')\n",
    "data3 = data3['close']\n",
    "data3 = data3[::-1]\n",
    "data['000981']= data3\n",
    "data.info()               #查看数据信息"
   ]
  },
  {
   "cell_type": "markdown",
   "id": "a45684c4",
   "metadata": {},
   "source": [
    "#### 清除数据空值"
   ]
  },
  {
   "cell_type": "code",
   "execution_count": 4,
   "id": "baca3952",
   "metadata": {},
   "outputs": [
    {
     "name": "stdout",
     "output_type": "stream",
     "text": [
      "<class 'pandas.core.frame.DataFrame'>\n",
      "Index: 576 entries, 2019-09-09 to 2022-03-07\n",
      "Data columns (total 3 columns):\n",
      " #   Column  Non-Null Count  Dtype  \n",
      "---  ------  --------------  -----  \n",
      " 0   600000  576 non-null    float64\n",
      " 1   000980  576 non-null    float64\n",
      " 2   000981  576 non-null    float64\n",
      "dtypes: float64(3)\n",
      "memory usage: 18.0+ KB\n"
     ]
    }
   ],
   "source": [
    "data = data.dropna()\n",
    "data.info()"
   ]
  },
  {
   "cell_type": "markdown",
   "id": "d16a87c1",
   "metadata": {},
   "source": [
    "#### 显示前后五条"
   ]
  },
  {
   "cell_type": "code",
   "execution_count": 5,
   "id": "a0d967de",
   "metadata": {},
   "outputs": [
    {
     "data": {
      "text/html": [
       "<div>\n",
       "<style scoped>\n",
       "    .dataframe tbody tr th:only-of-type {\n",
       "        vertical-align: middle;\n",
       "    }\n",
       "\n",
       "    .dataframe tbody tr th {\n",
       "        vertical-align: top;\n",
       "    }\n",
       "\n",
       "    .dataframe thead th {\n",
       "        text-align: right;\n",
       "    }\n",
       "</style>\n",
       "<table border=\"1\" class=\"dataframe\">\n",
       "  <thead>\n",
       "    <tr style=\"text-align: right;\">\n",
       "      <th></th>\n",
       "      <th>600000</th>\n",
       "      <th>000980</th>\n",
       "      <th>000981</th>\n",
       "    </tr>\n",
       "    <tr>\n",
       "      <th>date</th>\n",
       "      <th></th>\n",
       "      <th></th>\n",
       "      <th></th>\n",
       "    </tr>\n",
       "  </thead>\n",
       "  <tbody>\n",
       "    <tr>\n",
       "      <th>2019-09-09</th>\n",
       "      <td>11.75</td>\n",
       "      <td>3.81</td>\n",
       "      <td>1.54</td>\n",
       "    </tr>\n",
       "    <tr>\n",
       "      <th>2019-09-10</th>\n",
       "      <td>11.85</td>\n",
       "      <td>3.86</td>\n",
       "      <td>1.54</td>\n",
       "    </tr>\n",
       "    <tr>\n",
       "      <th>2019-09-11</th>\n",
       "      <td>11.95</td>\n",
       "      <td>3.87</td>\n",
       "      <td>1.54</td>\n",
       "    </tr>\n",
       "    <tr>\n",
       "      <th>2019-09-12</th>\n",
       "      <td>12.00</td>\n",
       "      <td>3.90</td>\n",
       "      <td>1.54</td>\n",
       "    </tr>\n",
       "    <tr>\n",
       "      <th>2019-09-16</th>\n",
       "      <td>11.93</td>\n",
       "      <td>3.87</td>\n",
       "      <td>1.49</td>\n",
       "    </tr>\n",
       "  </tbody>\n",
       "</table>\n",
       "</div>"
      ],
      "text/plain": [
       "            600000  000980  000981\n",
       "date                              \n",
       "2019-09-09   11.75    3.81    1.54\n",
       "2019-09-10   11.85    3.86    1.54\n",
       "2019-09-11   11.95    3.87    1.54\n",
       "2019-09-12   12.00    3.90    1.54\n",
       "2019-09-16   11.93    3.87    1.49"
      ]
     },
     "execution_count": 5,
     "metadata": {},
     "output_type": "execute_result"
    }
   ],
   "source": [
    "data.head()"
   ]
  },
  {
   "cell_type": "code",
   "execution_count": 6,
   "id": "6a3f8bac",
   "metadata": {
    "scrolled": true
   },
   "outputs": [
    {
     "data": {
      "text/html": [
       "<div>\n",
       "<style scoped>\n",
       "    .dataframe tbody tr th:only-of-type {\n",
       "        vertical-align: middle;\n",
       "    }\n",
       "\n",
       "    .dataframe tbody tr th {\n",
       "        vertical-align: top;\n",
       "    }\n",
       "\n",
       "    .dataframe thead th {\n",
       "        text-align: right;\n",
       "    }\n",
       "</style>\n",
       "<table border=\"1\" class=\"dataframe\">\n",
       "  <thead>\n",
       "    <tr style=\"text-align: right;\">\n",
       "      <th></th>\n",
       "      <th>600000</th>\n",
       "      <th>000980</th>\n",
       "      <th>000981</th>\n",
       "    </tr>\n",
       "    <tr>\n",
       "      <th>date</th>\n",
       "      <th></th>\n",
       "      <th></th>\n",
       "      <th></th>\n",
       "    </tr>\n",
       "  </thead>\n",
       "  <tbody>\n",
       "    <tr>\n",
       "      <th>2022-03-01</th>\n",
       "      <td>8.44</td>\n",
       "      <td>4.32</td>\n",
       "      <td>1.81</td>\n",
       "    </tr>\n",
       "    <tr>\n",
       "      <th>2022-03-02</th>\n",
       "      <td>8.42</td>\n",
       "      <td>4.37</td>\n",
       "      <td>1.72</td>\n",
       "    </tr>\n",
       "    <tr>\n",
       "      <th>2022-03-03</th>\n",
       "      <td>8.46</td>\n",
       "      <td>4.18</td>\n",
       "      <td>1.63</td>\n",
       "    </tr>\n",
       "    <tr>\n",
       "      <th>2022-03-04</th>\n",
       "      <td>8.40</td>\n",
       "      <td>4.02</td>\n",
       "      <td>1.57</td>\n",
       "    </tr>\n",
       "    <tr>\n",
       "      <th>2022-03-07</th>\n",
       "      <td>8.29</td>\n",
       "      <td>3.82</td>\n",
       "      <td>1.65</td>\n",
       "    </tr>\n",
       "  </tbody>\n",
       "</table>\n",
       "</div>"
      ],
      "text/plain": [
       "            600000  000980  000981\n",
       "date                              \n",
       "2022-03-01    8.44    4.32    1.81\n",
       "2022-03-02    8.42    4.37    1.72\n",
       "2022-03-03    8.46    4.18    1.63\n",
       "2022-03-04    8.40    4.02    1.57\n",
       "2022-03-07    8.29    3.82    1.65"
      ]
     },
     "execution_count": 6,
     "metadata": {},
     "output_type": "execute_result"
    }
   ],
   "source": [
    "data.tail()"
   ]
  },
  {
   "cell_type": "markdown",
   "id": "2eabd709",
   "metadata": {},
   "source": [
    "#### 取列数据"
   ]
  },
  {
   "cell_type": "code",
   "execution_count": 10,
   "id": "bc86e7cf",
   "metadata": {
    "scrolled": true
   },
   "outputs": [
    {
     "name": "stdout",
     "output_type": "stream",
     "text": [
      "            600000  000980\n",
      "date                      \n",
      "2019-09-09   11.75    3.81\n",
      "2019-09-10   11.85    3.86\n",
      "2019-09-11   11.95    3.87\n",
      "2019-09-12   12.00    3.90\n",
      "2019-09-16   11.93    3.87\n",
      "...            ...     ...\n",
      "2022-03-01    8.44    4.32\n",
      "2022-03-02    8.42    4.37\n",
      "2022-03-03    8.46    4.18\n",
      "2022-03-04    8.40    4.02\n",
      "2022-03-07    8.29    3.82\n",
      "\n",
      "[576 rows x 2 columns]\n"
     ]
    }
   ],
   "source": [
    "data=data[['600000','000980']]\n",
    "print(data)"
   ]
  },
  {
   "cell_type": "markdown",
   "id": "a7e3d8c0",
   "metadata": {},
   "source": [
    "#### iloc和loc读取数据"
   ]
  },
  {
   "cell_type": "code",
   "execution_count": 16,
   "id": "1cd4bf9f",
   "metadata": {},
   "outputs": [
    {
     "name": "stdout",
     "output_type": "stream",
     "text": [
      "            600000  000980\n",
      "date                      \n",
      "2019-09-09   11.75    3.81\n",
      "2019-09-10   11.85    3.86\n",
      "2019-09-11   11.95    3.87\n",
      "2019-09-12   12.00    3.90\n",
      "2019-09-16   11.93    3.87\n",
      "2019-09-17   11.81    3.73\n",
      "---------------------------\n",
      "            600000  000980\n",
      "date                      \n",
      "2019-09-09   11.75    3.81\n",
      "2019-09-10   11.85    3.86\n",
      "2019-09-11   11.95    3.87\n",
      "2019-09-12   12.00    3.90\n",
      "2019-09-16   11.93    3.87\n",
      "2019-09-17   11.81    3.73\n"
     ]
    }
   ],
   "source": [
    "print(data.iloc[:6,:])\n",
    "print('---------------------------')\n",
    "print(data.loc[:'2019-09-17',:])"
   ]
  },
  {
   "cell_type": "markdown",
   "id": "638c6b08",
   "metadata": {},
   "source": [
    "### tushare pro"
   ]
  },
  {
   "cell_type": "code",
   "execution_count": 6,
   "id": "70fceaec",
   "metadata": {},
   "outputs": [
    {
     "name": "stdout",
     "output_type": "stream",
     "text": [
      "     ts_code trade_date   open   high    low  close  pre_close  change  pct_chg        vol       amount\n",
      "0  000001.SZ   20220303  15.73  15.81  15.63  15.71      15.68    0.03   0.1913  578285.05   908171.588\n",
      "1  000001.SZ   20220302  15.79  15.87  15.66  15.68      15.92   -0.24  -1.5075  760760.86  1196321.948\n",
      "2  000001.SZ   20220301  15.79  15.95  15.62  15.92      15.75    0.17   1.0794  935040.34  1474693.965\n",
      "3  000001.SZ   20220228  15.90  15.92  15.62  15.75      15.90   -0.15  -0.9434  723990.45  1137154.094\n",
      "4  000001.SZ   20220225  15.99  16.08  15.87  15.90      15.91   -0.01  -0.0629  726397.07  1157890.268\n",
      "---------------------------------------------------------------------------------------------------\n",
      "     ts_code trade_date   open   high    low  close  pre_close  change  pct_chg         vol       amount\n",
      "4  000001.SZ   20220225  15.99  16.08  15.87  15.90      15.91   -0.01  -0.0629   726397.07  1157890.268\n",
      "5  000001.SZ   20220224  16.13  16.15  15.80  15.91      16.19   -0.28  -1.7295  1324086.85  2112842.553\n",
      "6  000001.SZ   20220223  16.30  16.31  16.04  16.19      16.23   -0.04  -0.2465   886742.44  1431289.852\n",
      "7  000001.SZ   20220222  16.31  16.44  16.16  16.23      16.51   -0.28  -1.6959   894956.73  1454156.224\n",
      "8  000001.SZ   20220221  16.66  16.67  16.32  16.51      16.77   -0.26  -1.5504   800994.55  1316023.718\n"
     ]
    }
   ],
   "source": [
    "import tushare as ts\n",
    "import pandas as pd\n",
    "pd.set_option('expand_frame_repr',False) #显示所有列\n",
    "ts.set_token('3beebb3ed233f16bad857c626a68e66348a2eacc07ba53b672d51480') #token号\n",
    "pro = ts.pro_api() #使用pro接口\n",
    "stock_data = pro.daily(ts_code='000001.sz',start_date='20220220',end_date='20220303') #获取数据\n",
    "print(stock_data.head())\n",
    "print('---------------------------------------------------------------------------------------------------')\n",
    "print(stock_data.tail())"
   ]
  },
  {
   "cell_type": "code",
   "execution_count": null,
   "id": "7918c2c5",
   "metadata": {},
   "outputs": [],
   "source": []
  }
 ],
 "metadata": {
  "kernelspec": {
   "display_name": "Python 3 (ipykernel)",
   "language": "python",
   "name": "python3"
  },
  "language_info": {
   "codemirror_mode": {
    "name": "ipython",
    "version": 3
   },
   "file_extension": ".py",
   "mimetype": "text/x-python",
   "name": "python",
   "nbconvert_exporter": "python",
   "pygments_lexer": "ipython3",
   "version": "3.7.11"
  },
  "toc": {
   "base_numbering": 1,
   "nav_menu": {},
   "number_sections": true,
   "sideBar": true,
   "skip_h1_title": false,
   "title_cell": "Table of Contents",
   "title_sidebar": "Contents",
   "toc_cell": false,
   "toc_position": {
    "height": "calc(100% - 180px)",
    "left": "10px",
    "top": "150px",
    "width": "170.693px"
   },
   "toc_section_display": true,
   "toc_window_display": true
  }
 },
 "nbformat": 4,
 "nbformat_minor": 5
}
